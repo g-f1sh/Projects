{
 "cells": [
  {
   "cell_type": "markdown",
   "metadata": {},
   "source": [
    "<div style=\"border:solid #eaeaea 2px; padding: 15px\">\n",
    "Hello, My name is Guy and in this project we are going to go through prioritizing our Hypotheses\n",
    "and we analyze out test and control groups.<br>\n",
    "We will make conclusions and decide wether the test group improved or declined against the control group and decide wether we need to continue the testing or not.\n",
    "    </div>"
   ]
  },
  {
   "cell_type": "markdown",
   "metadata": {},
   "source": [
    "<div style=\"border:solid #eaeaea 2px; padding: 40px\">\n",
    "<font style=\"font-size:30px\";color='#000000'>Making Business Decisions Based on Data</font>  \n",
    "    \n",
    "### Prioritizing Hypotheses\n",
    "* <a href=#1 style=\"color:black\">Apply the ICE framework to prioritize hypotheses.</a>\n",
    "* <a href=#2 style=\"color:black\">Apply the RICE framework to prioritize hypotheses.</a>\n",
    "* <a href=#3 style=\"color:black\">Show how the prioritization of hypotheses changes when you use RICE instead of ICE.</a>\n",
    "### A/B Testing & Analysis\n",
    "* <a href=#4 style=\"color:black\">Graph cumulative revenue by group.</a>\n",
    "* <a href=#5 style=\"color:black\">Graph cumulative average order size by group.</a>\n",
    "* <a href=#6 style=\"color:black\">Graph the relative difference in cumulative average order size for group B compared with group </a>A.\n",
    "* <a href=#7 style=\"color:black\">Calculate each group's conversion rate as the ratio of orders to the number of visits for each </a>day.\n",
    "* <a href=#8 style=\"color:black\">Plot a scatter chart of the number of orders per user.</a>\n",
    "* <a href=#9 style=\"color:black\">Calculate the 95th and 99th percentiles for the number of orders per user.</a>\n",
    "* <a href=#10 style=\"color:black\">Plot a scatter chart of order prices.</a>\n",
    "* <a href=#11 style=\"color:black\">Calculate the 95th and 99th percentiles of order prices.</a>\n",
    "* <a href=#12 style=\"color:black\">Find the statistical significance of the difference in conversion between the groups using the </a>raw data.\n",
    "* <a href=#13 style=\"color:black\">Find the statistical significance of the difference in average order size between the groups </a>using the raw data.\n",
    "* <a href=#14 style=\"color:black\">Find the statistical significance of the difference in conversion between the groups using the </a>filtered data.\n",
    "* <a href=#15 style=\"color:black\">Find the statistical significance of the difference in average order size between the groups </a>using the filtered data.\n",
    "* <a href=#16 style=\"color:black\">Make a decision based on the test results.</a>\n",
    "</div>"
   ]
  },
  {
   "cell_type": "code",
   "execution_count": 1,
   "metadata": {},
   "outputs": [],
   "source": [
    "import pandas as pd\n",
    "import matplotlib.pyplot as plt\n",
    "import numpy as np\n",
    "import seaborn as sns\n",
    "import scipy.stats as stats\n",
    "import re\n",
    "from IPython.display import display, HTML\n",
    "from IPython.display import display_html\n",
    "import matplotlib as mpl\n",
    "import plotly.express as px\n",
    "import warnings\n",
    "from pylab import rcParams\n",
    "import datetime as dt\n",
    "from pylab import *\n",
    "%matplotlib inline\n",
    "warnings.filterwarnings(\"ignore\")\n",
    "rcParams['figure.figsize'] = 10,5\n",
    "rcParams['font.size'] = 30\n",
    "sns.set()\n",
    "np.random.seed(8)\n",
    "\n",
    "warnings.filterwarnings(\"ignore\")\n",
    "pd.set_option('display.max_colwidth', -1)"
   ]
  },
  {
   "cell_type": "code",
   "execution_count": 2,
   "metadata": {},
   "outputs": [],
   "source": [
    "def CheckNulls(df):\n",
    "    for data in df:\n",
    "        display('Nulls:', data[data.columns[data.isnull().any()]].isnull().sum() * 100 / data.shape[0])\n",
    "        display(data.info())\n",
    "        display(data.describe())\n",
    "        display(data.duplicated().sum())\n",
    "        print('--------------------')\n",
    "        \n",
    "        \n",
    "def display_side_by_side(dfs:list, captions:list):\n",
    "    output = \"\"\n",
    "    combined = dict(zip(captions, dfs))\n",
    "    for caption, df in combined.items():\n",
    "        output += df.style.set_table_attributes(\"style='display:inline'\").set_caption(caption)._repr_html_()\n",
    "        output += \"\\xa0\\xa0\\xa0\"\n",
    "    display(HTML(output))\n"
   ]
  },
  {
   "cell_type": "code",
   "execution_count": 3,
   "metadata": {},
   "outputs": [],
   "source": [
    "hypotheses = pd.read_csv('./hypotheses_us.csv', sep=';')\n",
    "orders = pd.read_csv('./orders_us.csv')\n",
    "visits = pd.read_csv('./visits_us.csv')"
   ]
  },
  {
   "cell_type": "code",
   "execution_count": 4,
   "metadata": {},
   "outputs": [
    {
     "data": {
      "text/plain": [
       "'Nulls:'"
      ]
     },
     "metadata": {},
     "output_type": "display_data"
    },
    {
     "data": {
      "text/plain": [
       "Series([], dtype: float64)"
      ]
     },
     "metadata": {},
     "output_type": "display_data"
    },
    {
     "name": "stdout",
     "output_type": "stream",
     "text": [
      "<class 'pandas.core.frame.DataFrame'>\n",
      "RangeIndex: 1197 entries, 0 to 1196\n",
      "Data columns (total 5 columns):\n",
      " #   Column         Non-Null Count  Dtype  \n",
      "---  ------         --------------  -----  \n",
      " 0   transactionId  1197 non-null   int64  \n",
      " 1   visitorId      1197 non-null   int64  \n",
      " 2   date           1197 non-null   object \n",
      " 3   revenue        1197 non-null   float64\n",
      " 4   group          1197 non-null   object \n",
      "dtypes: float64(1), int64(2), object(2)\n",
      "memory usage: 37.5+ KB\n"
     ]
    },
    {
     "data": {
      "text/plain": [
       "None"
      ]
     },
     "metadata": {},
     "output_type": "display_data"
    },
    {
     "data": {
      "text/html": [
       "<div>\n",
       "<style scoped>\n",
       "    .dataframe tbody tr th:only-of-type {\n",
       "        vertical-align: middle;\n",
       "    }\n",
       "\n",
       "    .dataframe tbody tr th {\n",
       "        vertical-align: top;\n",
       "    }\n",
       "\n",
       "    .dataframe thead th {\n",
       "        text-align: right;\n",
       "    }\n",
       "</style>\n",
       "<table border=\"1\" class=\"dataframe\">\n",
       "  <thead>\n",
       "    <tr style=\"text-align: right;\">\n",
       "      <th></th>\n",
       "      <th>transactionId</th>\n",
       "      <th>visitorId</th>\n",
       "      <th>revenue</th>\n",
       "    </tr>\n",
       "  </thead>\n",
       "  <tbody>\n",
       "    <tr>\n",
       "      <th>count</th>\n",
       "      <td>1.197000e+03</td>\n",
       "      <td>1.197000e+03</td>\n",
       "      <td>1197.000000</td>\n",
       "    </tr>\n",
       "    <tr>\n",
       "      <th>mean</th>\n",
       "      <td>2.155621e+09</td>\n",
       "      <td>2.165960e+09</td>\n",
       "      <td>131.491646</td>\n",
       "    </tr>\n",
       "    <tr>\n",
       "      <th>std</th>\n",
       "      <td>1.229085e+09</td>\n",
       "      <td>1.236014e+09</td>\n",
       "      <td>603.004729</td>\n",
       "    </tr>\n",
       "    <tr>\n",
       "      <th>min</th>\n",
       "      <td>1.062393e+06</td>\n",
       "      <td>5.114589e+06</td>\n",
       "      <td>5.000000</td>\n",
       "    </tr>\n",
       "    <tr>\n",
       "      <th>25%</th>\n",
       "      <td>1.166776e+09</td>\n",
       "      <td>1.111826e+09</td>\n",
       "      <td>20.800000</td>\n",
       "    </tr>\n",
       "    <tr>\n",
       "      <th>50%</th>\n",
       "      <td>2.145194e+09</td>\n",
       "      <td>2.217985e+09</td>\n",
       "      <td>50.200000</td>\n",
       "    </tr>\n",
       "    <tr>\n",
       "      <th>75%</th>\n",
       "      <td>3.237740e+09</td>\n",
       "      <td>3.177606e+09</td>\n",
       "      <td>130.400000</td>\n",
       "    </tr>\n",
       "    <tr>\n",
       "      <th>max</th>\n",
       "      <td>4.293856e+09</td>\n",
       "      <td>4.283872e+09</td>\n",
       "      <td>19920.400000</td>\n",
       "    </tr>\n",
       "  </tbody>\n",
       "</table>\n",
       "</div>"
      ],
      "text/plain": [
       "       transactionId     visitorId       revenue\n",
       "count  1.197000e+03   1.197000e+03  1197.000000 \n",
       "mean   2.155621e+09   2.165960e+09  131.491646  \n",
       "std    1.229085e+09   1.236014e+09  603.004729  \n",
       "min    1.062393e+06   5.114589e+06  5.000000    \n",
       "25%    1.166776e+09   1.111826e+09  20.800000   \n",
       "50%    2.145194e+09   2.217985e+09  50.200000   \n",
       "75%    3.237740e+09   3.177606e+09  130.400000  \n",
       "max    4.293856e+09   4.283872e+09  19920.400000"
      ]
     },
     "metadata": {},
     "output_type": "display_data"
    },
    {
     "data": {
      "text/plain": [
       "0"
      ]
     },
     "metadata": {},
     "output_type": "display_data"
    },
    {
     "name": "stdout",
     "output_type": "stream",
     "text": [
      "--------------------\n"
     ]
    },
    {
     "data": {
      "text/plain": [
       "'Nulls:'"
      ]
     },
     "metadata": {},
     "output_type": "display_data"
    },
    {
     "data": {
      "text/plain": [
       "Series([], dtype: float64)"
      ]
     },
     "metadata": {},
     "output_type": "display_data"
    },
    {
     "name": "stdout",
     "output_type": "stream",
     "text": [
      "<class 'pandas.core.frame.DataFrame'>\n",
      "RangeIndex: 62 entries, 0 to 61\n",
      "Data columns (total 3 columns):\n",
      " #   Column  Non-Null Count  Dtype \n",
      "---  ------  --------------  ----- \n",
      " 0   date    62 non-null     object\n",
      " 1   group   62 non-null     object\n",
      " 2   visits  62 non-null     int64 \n",
      "dtypes: int64(1), object(2)\n",
      "memory usage: 1.0+ KB\n"
     ]
    },
    {
     "data": {
      "text/plain": [
       "None"
      ]
     },
     "metadata": {},
     "output_type": "display_data"
    },
    {
     "data": {
      "text/html": [
       "<div>\n",
       "<style scoped>\n",
       "    .dataframe tbody tr th:only-of-type {\n",
       "        vertical-align: middle;\n",
       "    }\n",
       "\n",
       "    .dataframe tbody tr th {\n",
       "        vertical-align: top;\n",
       "    }\n",
       "\n",
       "    .dataframe thead th {\n",
       "        text-align: right;\n",
       "    }\n",
       "</style>\n",
       "<table border=\"1\" class=\"dataframe\">\n",
       "  <thead>\n",
       "    <tr style=\"text-align: right;\">\n",
       "      <th></th>\n",
       "      <th>visits</th>\n",
       "    </tr>\n",
       "  </thead>\n",
       "  <tbody>\n",
       "    <tr>\n",
       "      <th>count</th>\n",
       "      <td>62.000000</td>\n",
       "    </tr>\n",
       "    <tr>\n",
       "      <th>mean</th>\n",
       "      <td>607.290323</td>\n",
       "    </tr>\n",
       "    <tr>\n",
       "      <th>std</th>\n",
       "      <td>114.400560</td>\n",
       "    </tr>\n",
       "    <tr>\n",
       "      <th>min</th>\n",
       "      <td>361.000000</td>\n",
       "    </tr>\n",
       "    <tr>\n",
       "      <th>25%</th>\n",
       "      <td>534.000000</td>\n",
       "    </tr>\n",
       "    <tr>\n",
       "      <th>50%</th>\n",
       "      <td>624.500000</td>\n",
       "    </tr>\n",
       "    <tr>\n",
       "      <th>75%</th>\n",
       "      <td>710.500000</td>\n",
       "    </tr>\n",
       "    <tr>\n",
       "      <th>max</th>\n",
       "      <td>770.000000</td>\n",
       "    </tr>\n",
       "  </tbody>\n",
       "</table>\n",
       "</div>"
      ],
      "text/plain": [
       "           visits\n",
       "count  62.000000 \n",
       "mean   607.290323\n",
       "std    114.400560\n",
       "min    361.000000\n",
       "25%    534.000000\n",
       "50%    624.500000\n",
       "75%    710.500000\n",
       "max    770.000000"
      ]
     },
     "metadata": {},
     "output_type": "display_data"
    },
    {
     "data": {
      "text/plain": [
       "0"
      ]
     },
     "metadata": {},
     "output_type": "display_data"
    },
    {
     "name": "stdout",
     "output_type": "stream",
     "text": [
      "--------------------\n"
     ]
    },
    {
     "data": {
      "text/plain": [
       "'Nulls:'"
      ]
     },
     "metadata": {},
     "output_type": "display_data"
    },
    {
     "data": {
      "text/plain": [
       "Series([], dtype: float64)"
      ]
     },
     "metadata": {},
     "output_type": "display_data"
    },
    {
     "name": "stdout",
     "output_type": "stream",
     "text": [
      "<class 'pandas.core.frame.DataFrame'>\n",
      "RangeIndex: 9 entries, 0 to 8\n",
      "Data columns (total 5 columns):\n",
      " #   Column      Non-Null Count  Dtype \n",
      "---  ------      --------------  ----- \n",
      " 0   Hypothesis  9 non-null      object\n",
      " 1   Reach       9 non-null      int64 \n",
      " 2   Impact      9 non-null      int64 \n",
      " 3   Confidence  9 non-null      int64 \n",
      " 4   Effort      9 non-null      int64 \n",
      "dtypes: int64(4), object(1)\n",
      "memory usage: 388.0+ bytes\n"
     ]
    },
    {
     "data": {
      "text/plain": [
       "None"
      ]
     },
     "metadata": {},
     "output_type": "display_data"
    },
    {
     "data": {
      "text/html": [
       "<div>\n",
       "<style scoped>\n",
       "    .dataframe tbody tr th:only-of-type {\n",
       "        vertical-align: middle;\n",
       "    }\n",
       "\n",
       "    .dataframe tbody tr th {\n",
       "        vertical-align: top;\n",
       "    }\n",
       "\n",
       "    .dataframe thead th {\n",
       "        text-align: right;\n",
       "    }\n",
       "</style>\n",
       "<table border=\"1\" class=\"dataframe\">\n",
       "  <thead>\n",
       "    <tr style=\"text-align: right;\">\n",
       "      <th></th>\n",
       "      <th>Reach</th>\n",
       "      <th>Impact</th>\n",
       "      <th>Confidence</th>\n",
       "      <th>Effort</th>\n",
       "    </tr>\n",
       "  </thead>\n",
       "  <tbody>\n",
       "    <tr>\n",
       "      <th>count</th>\n",
       "      <td>9.000000</td>\n",
       "      <td>9.000000</td>\n",
       "      <td>9.000000</td>\n",
       "      <td>9.000000</td>\n",
       "    </tr>\n",
       "    <tr>\n",
       "      <th>mean</th>\n",
       "      <td>4.777778</td>\n",
       "      <td>4.777778</td>\n",
       "      <td>5.555556</td>\n",
       "      <td>4.888889</td>\n",
       "    </tr>\n",
       "    <tr>\n",
       "      <th>std</th>\n",
       "      <td>3.153481</td>\n",
       "      <td>3.192874</td>\n",
       "      <td>3.045944</td>\n",
       "      <td>2.803767</td>\n",
       "    </tr>\n",
       "    <tr>\n",
       "      <th>min</th>\n",
       "      <td>1.000000</td>\n",
       "      <td>1.000000</td>\n",
       "      <td>1.000000</td>\n",
       "      <td>1.000000</td>\n",
       "    </tr>\n",
       "    <tr>\n",
       "      <th>25%</th>\n",
       "      <td>3.000000</td>\n",
       "      <td>3.000000</td>\n",
       "      <td>3.000000</td>\n",
       "      <td>3.000000</td>\n",
       "    </tr>\n",
       "    <tr>\n",
       "      <th>50%</th>\n",
       "      <td>3.000000</td>\n",
       "      <td>3.000000</td>\n",
       "      <td>7.000000</td>\n",
       "      <td>5.000000</td>\n",
       "    </tr>\n",
       "    <tr>\n",
       "      <th>75%</th>\n",
       "      <td>8.000000</td>\n",
       "      <td>7.000000</td>\n",
       "      <td>8.000000</td>\n",
       "      <td>6.000000</td>\n",
       "    </tr>\n",
       "    <tr>\n",
       "      <th>max</th>\n",
       "      <td>10.000000</td>\n",
       "      <td>10.000000</td>\n",
       "      <td>9.000000</td>\n",
       "      <td>10.000000</td>\n",
       "    </tr>\n",
       "  </tbody>\n",
       "</table>\n",
       "</div>"
      ],
      "text/plain": [
       "           Reach     Impact  Confidence     Effort\n",
       "count  9.000000   9.000000   9.000000    9.000000 \n",
       "mean   4.777778   4.777778   5.555556    4.888889 \n",
       "std    3.153481   3.192874   3.045944    2.803767 \n",
       "min    1.000000   1.000000   1.000000    1.000000 \n",
       "25%    3.000000   3.000000   3.000000    3.000000 \n",
       "50%    3.000000   3.000000   7.000000    5.000000 \n",
       "75%    8.000000   7.000000   8.000000    6.000000 \n",
       "max    10.000000  10.000000  9.000000    10.000000"
      ]
     },
     "metadata": {},
     "output_type": "display_data"
    },
    {
     "data": {
      "text/plain": [
       "0"
      ]
     },
     "metadata": {},
     "output_type": "display_data"
    },
    {
     "name": "stdout",
     "output_type": "stream",
     "text": [
      "--------------------\n"
     ]
    }
   ],
   "source": [
    "CheckNulls([orders, visits,hypotheses])"
   ]
  },
  {
   "cell_type": "code",
   "execution_count": 5,
   "metadata": {},
   "outputs": [],
   "source": [
    "orders['date'] = orders['date'].map(lambda x: dt.datetime.strptime(x, '%Y-%m-%d'))\n",
    "visits['date'] = visits['date'].map(lambda x: dt.datetime.strptime(x, '%Y-%m-%d'))"
   ]
  },
  {
   "cell_type": "code",
   "execution_count": 6,
   "metadata": {},
   "outputs": [],
   "source": [
    "hypotheses.columns = hypotheses.columns.str.lower()"
   ]
  },
  {
   "cell_type": "code",
   "execution_count": 7,
   "metadata": {},
   "outputs": [
    {
     "data": {
      "text/html": [
       "<div>\n",
       "<style scoped>\n",
       "    .dataframe tbody tr th:only-of-type {\n",
       "        vertical-align: middle;\n",
       "    }\n",
       "\n",
       "    .dataframe tbody tr th {\n",
       "        vertical-align: top;\n",
       "    }\n",
       "\n",
       "    .dataframe thead th {\n",
       "        text-align: right;\n",
       "    }\n",
       "</style>\n",
       "<table border=\"1\" class=\"dataframe\">\n",
       "  <thead>\n",
       "    <tr style=\"text-align: right;\">\n",
       "      <th></th>\n",
       "      <th>visitorId</th>\n",
       "      <th>group</th>\n",
       "    </tr>\n",
       "  </thead>\n",
       "  <tbody>\n",
       "    <tr>\n",
       "      <th>2</th>\n",
       "      <td>8300375</td>\n",
       "      <td>2</td>\n",
       "    </tr>\n",
       "    <tr>\n",
       "      <th>44</th>\n",
       "      <td>199603092</td>\n",
       "      <td>2</td>\n",
       "    </tr>\n",
       "    <tr>\n",
       "      <th>51</th>\n",
       "      <td>232979603</td>\n",
       "      <td>2</td>\n",
       "    </tr>\n",
       "    <tr>\n",
       "      <th>55</th>\n",
       "      <td>237748145</td>\n",
       "      <td>2</td>\n",
       "    </tr>\n",
       "    <tr>\n",
       "      <th>66</th>\n",
       "      <td>276558944</td>\n",
       "      <td>2</td>\n",
       "    </tr>\n",
       "  </tbody>\n",
       "</table>\n",
       "</div>"
      ],
      "text/plain": [
       "    visitorId  group\n",
       "2   8300375    2    \n",
       "44  199603092  2    \n",
       "51  232979603  2    \n",
       "55  237748145  2    \n",
       "66  276558944  2    "
      ]
     },
     "execution_count": 7,
     "metadata": {},
     "output_type": "execute_result"
    }
   ],
   "source": [
    "orders_duplicate = orders.groupby('visitorId')['group'].nunique().reset_index()\n",
    "orders_duplicate = orders_duplicate[orders_duplicate['group'] > 1]\n",
    "orders_duplicate.head()"
   ]
  },
  {
   "cell_type": "code",
   "execution_count": 8,
   "metadata": {},
   "outputs": [],
   "source": [
    "orders =  orders[np.logical_not(orders.visitorId.isin(orders_duplicate.visitorId))]"
   ]
  },
  {
   "cell_type": "code",
   "execution_count": 9,
   "metadata": {},
   "outputs": [
    {
     "data": {
      "text/html": [
       "<div>\n",
       "<style scoped>\n",
       "    .dataframe tbody tr th:only-of-type {\n",
       "        vertical-align: middle;\n",
       "    }\n",
       "\n",
       "    .dataframe tbody tr th {\n",
       "        vertical-align: top;\n",
       "    }\n",
       "\n",
       "    .dataframe thead th {\n",
       "        text-align: right;\n",
       "    }\n",
       "</style>\n",
       "<table border=\"1\" class=\"dataframe\">\n",
       "  <thead>\n",
       "    <tr style=\"text-align: right;\">\n",
       "      <th></th>\n",
       "      <th>transactionId</th>\n",
       "      <th>visitorId</th>\n",
       "      <th>date</th>\n",
       "      <th>revenue</th>\n",
       "      <th>group</th>\n",
       "    </tr>\n",
       "  </thead>\n",
       "  <tbody>\n",
       "    <tr>\n",
       "      <th>0</th>\n",
       "      <td>3667963787</td>\n",
       "      <td>3312258926</td>\n",
       "      <td>2019-08-15</td>\n",
       "      <td>30.4</td>\n",
       "      <td>B</td>\n",
       "    </tr>\n",
       "    <tr>\n",
       "      <th>1</th>\n",
       "      <td>2804400009</td>\n",
       "      <td>3642806036</td>\n",
       "      <td>2019-08-15</td>\n",
       "      <td>15.2</td>\n",
       "      <td>B</td>\n",
       "    </tr>\n",
       "    <tr>\n",
       "      <th>3</th>\n",
       "      <td>3797467345</td>\n",
       "      <td>1196621759</td>\n",
       "      <td>2019-08-15</td>\n",
       "      <td>155.1</td>\n",
       "      <td>B</td>\n",
       "    </tr>\n",
       "    <tr>\n",
       "      <th>4</th>\n",
       "      <td>2282983706</td>\n",
       "      <td>2322279887</td>\n",
       "      <td>2019-08-15</td>\n",
       "      <td>40.5</td>\n",
       "      <td>B</td>\n",
       "    </tr>\n",
       "    <tr>\n",
       "      <th>5</th>\n",
       "      <td>182168103</td>\n",
       "      <td>935554773</td>\n",
       "      <td>2019-08-15</td>\n",
       "      <td>35.0</td>\n",
       "      <td>B</td>\n",
       "    </tr>\n",
       "  </tbody>\n",
       "</table>\n",
       "</div>"
      ],
      "text/plain": [
       "   transactionId   visitorId       date  revenue group\n",
       "0  3667963787     3312258926 2019-08-15  30.4     B   \n",
       "1  2804400009     3642806036 2019-08-15  15.2     B   \n",
       "3  3797467345     1196621759 2019-08-15  155.1    B   \n",
       "4  2282983706     2322279887 2019-08-15  40.5     B   \n",
       "5  182168103      935554773  2019-08-15  35.0     B   "
      ]
     },
     "execution_count": 9,
     "metadata": {},
     "output_type": "execute_result"
    }
   ],
   "source": [
    "orders.head()"
   ]
  },
  {
   "cell_type": "markdown",
   "metadata": {},
   "source": [
    "<div style=\"border:solid #eaeaea 2px; padding: 15px\">\n",
    "We checked if every user is in only one group, and found out some of data has been in both groups. those users are removed since we dont know where they really belong.\n",
    "</div>"
   ]
  },
  {
   "cell_type": "markdown",
   "metadata": {},
   "source": [
    "<a id=\"1\"></a>"
   ]
  },
  {
   "cell_type": "code",
   "execution_count": 10,
   "metadata": {},
   "outputs": [],
   "source": [
    "hypotheses['ICE'] = (hypotheses['impact'] * hypotheses['confidence'])/ hypotheses['effort']"
   ]
  },
  {
   "cell_type": "code",
   "execution_count": 11,
   "metadata": {},
   "outputs": [
    {
     "data": {
      "text/html": [
       "<div>\n",
       "<style scoped>\n",
       "    .dataframe tbody tr th:only-of-type {\n",
       "        vertical-align: middle;\n",
       "    }\n",
       "\n",
       "    .dataframe tbody tr th {\n",
       "        vertical-align: top;\n",
       "    }\n",
       "\n",
       "    .dataframe thead th {\n",
       "        text-align: right;\n",
       "    }\n",
       "</style>\n",
       "<table border=\"1\" class=\"dataframe\">\n",
       "  <thead>\n",
       "    <tr style=\"text-align: right;\">\n",
       "      <th></th>\n",
       "      <th>hypothesis</th>\n",
       "      <th>ICE</th>\n",
       "    </tr>\n",
       "  </thead>\n",
       "  <tbody>\n",
       "    <tr>\n",
       "      <th>8</th>\n",
       "      <td>Launch a promotion that gives users discounts on their birthdays</td>\n",
       "      <td>16.200000</td>\n",
       "    </tr>\n",
       "    <tr>\n",
       "      <th>0</th>\n",
       "      <td>Add two new channels for attracting traffic. This will bring 30% more users</td>\n",
       "      <td>13.333333</td>\n",
       "    </tr>\n",
       "    <tr>\n",
       "      <th>7</th>\n",
       "      <td>Add a subscription form to all the main pages. This will help you compile a mailing list</td>\n",
       "      <td>11.200000</td>\n",
       "    </tr>\n",
       "    <tr>\n",
       "      <th>6</th>\n",
       "      <td>Show banners with current offers and sales on the main page. This will boost conversion</td>\n",
       "      <td>8.000000</td>\n",
       "    </tr>\n",
       "    <tr>\n",
       "      <th>2</th>\n",
       "      <td>Add product recommendation blocks to the store's site. This will increase conversion and average purchase size</td>\n",
       "      <td>7.000000</td>\n",
       "    </tr>\n",
       "    <tr>\n",
       "      <th>1</th>\n",
       "      <td>Launch your own delivery service. This will shorten delivery time</td>\n",
       "      <td>2.000000</td>\n",
       "    </tr>\n",
       "    <tr>\n",
       "      <th>5</th>\n",
       "      <td>Add a customer review page. This will increase the number of orders</td>\n",
       "      <td>1.333333</td>\n",
       "    </tr>\n",
       "    <tr>\n",
       "      <th>3</th>\n",
       "      <td>Change the category structure. This will increase conversion since users will find the products they want more quickly</td>\n",
       "      <td>1.125000</td>\n",
       "    </tr>\n",
       "    <tr>\n",
       "      <th>4</th>\n",
       "      <td>Change the background color on the main page. This will increase user engagement</td>\n",
       "      <td>1.000000</td>\n",
       "    </tr>\n",
       "  </tbody>\n",
       "</table>\n",
       "</div>"
      ],
      "text/plain": [
       "                                                                                                               hypothesis  \\\n",
       "8  Launch a promotion that gives users discounts on their birthdays                                                         \n",
       "0  Add two new channels for attracting traffic. This will bring 30% more users                                              \n",
       "7  Add a subscription form to all the main pages. This will help you compile a mailing list                                 \n",
       "6  Show banners with current offers and sales on the main page. This will boost conversion                                  \n",
       "2  Add product recommendation blocks to the store's site. This will increase conversion and average purchase size           \n",
       "1  Launch your own delivery service. This will shorten delivery time                                                        \n",
       "5  Add a customer review page. This will increase the number of orders                                                      \n",
       "3  Change the category structure. This will increase conversion since users will find the products they want more quickly   \n",
       "4  Change the background color on the main page. This will increase user engagement                                         \n",
       "\n",
       "         ICE  \n",
       "8  16.200000  \n",
       "0  13.333333  \n",
       "7  11.200000  \n",
       "6  8.000000   \n",
       "2  7.000000   \n",
       "1  2.000000   \n",
       "5  1.333333   \n",
       "3  1.125000   \n",
       "4  1.000000   "
      ]
     },
     "execution_count": 11,
     "metadata": {},
     "output_type": "execute_result"
    }
   ],
   "source": [
    "hypotheses[['hypothesis','ICE']].sort_values(by='ICE',ascending=False)"
   ]
  },
  {
   "cell_type": "markdown",
   "metadata": {},
   "source": [
    "<a id=2></a>"
   ]
  },
  {
   "cell_type": "code",
   "execution_count": 12,
   "metadata": {},
   "outputs": [],
   "source": [
    "hypotheses['RICE'] = (hypotheses['reach'] * hypotheses['impact'] * hypotheses['confidence']) / hypotheses['effort']"
   ]
  },
  {
   "cell_type": "code",
   "execution_count": 13,
   "metadata": {},
   "outputs": [
    {
     "data": {
      "text/html": [
       "<div>\n",
       "<style scoped>\n",
       "    .dataframe tbody tr th:only-of-type {\n",
       "        vertical-align: middle;\n",
       "    }\n",
       "\n",
       "    .dataframe tbody tr th {\n",
       "        vertical-align: top;\n",
       "    }\n",
       "\n",
       "    .dataframe thead th {\n",
       "        text-align: right;\n",
       "    }\n",
       "</style>\n",
       "<table border=\"1\" class=\"dataframe\">\n",
       "  <thead>\n",
       "    <tr style=\"text-align: right;\">\n",
       "      <th></th>\n",
       "      <th>hypothesis</th>\n",
       "      <th>reach</th>\n",
       "      <th>impact</th>\n",
       "      <th>confidence</th>\n",
       "      <th>effort</th>\n",
       "      <th>ICE</th>\n",
       "      <th>RICE</th>\n",
       "    </tr>\n",
       "  </thead>\n",
       "  <tbody>\n",
       "    <tr>\n",
       "      <th>7</th>\n",
       "      <td>Add a subscription form to all the main pages. This will help you compile a mailing list</td>\n",
       "      <td>10</td>\n",
       "      <td>7</td>\n",
       "      <td>8</td>\n",
       "      <td>5</td>\n",
       "      <td>11.200000</td>\n",
       "      <td>112.0</td>\n",
       "    </tr>\n",
       "    <tr>\n",
       "      <th>2</th>\n",
       "      <td>Add product recommendation blocks to the store's site. This will increase conversion and average purchase size</td>\n",
       "      <td>8</td>\n",
       "      <td>3</td>\n",
       "      <td>7</td>\n",
       "      <td>3</td>\n",
       "      <td>7.000000</td>\n",
       "      <td>56.0</td>\n",
       "    </tr>\n",
       "    <tr>\n",
       "      <th>0</th>\n",
       "      <td>Add two new channels for attracting traffic. This will bring 30% more users</td>\n",
       "      <td>3</td>\n",
       "      <td>10</td>\n",
       "      <td>8</td>\n",
       "      <td>6</td>\n",
       "      <td>13.333333</td>\n",
       "      <td>40.0</td>\n",
       "    </tr>\n",
       "    <tr>\n",
       "      <th>6</th>\n",
       "      <td>Show banners with current offers and sales on the main page. This will boost conversion</td>\n",
       "      <td>5</td>\n",
       "      <td>3</td>\n",
       "      <td>8</td>\n",
       "      <td>3</td>\n",
       "      <td>8.000000</td>\n",
       "      <td>40.0</td>\n",
       "    </tr>\n",
       "    <tr>\n",
       "      <th>8</th>\n",
       "      <td>Launch a promotion that gives users discounts on their birthdays</td>\n",
       "      <td>1</td>\n",
       "      <td>9</td>\n",
       "      <td>9</td>\n",
       "      <td>5</td>\n",
       "      <td>16.200000</td>\n",
       "      <td>16.2</td>\n",
       "    </tr>\n",
       "    <tr>\n",
       "      <th>3</th>\n",
       "      <td>Change the category structure. This will increase conversion since users will find the products they want more quickly</td>\n",
       "      <td>8</td>\n",
       "      <td>3</td>\n",
       "      <td>3</td>\n",
       "      <td>8</td>\n",
       "      <td>1.125000</td>\n",
       "      <td>9.0</td>\n",
       "    </tr>\n",
       "    <tr>\n",
       "      <th>1</th>\n",
       "      <td>Launch your own delivery service. This will shorten delivery time</td>\n",
       "      <td>2</td>\n",
       "      <td>5</td>\n",
       "      <td>4</td>\n",
       "      <td>10</td>\n",
       "      <td>2.000000</td>\n",
       "      <td>4.0</td>\n",
       "    </tr>\n",
       "    <tr>\n",
       "      <th>5</th>\n",
       "      <td>Add a customer review page. This will increase the number of orders</td>\n",
       "      <td>3</td>\n",
       "      <td>2</td>\n",
       "      <td>2</td>\n",
       "      <td>3</td>\n",
       "      <td>1.333333</td>\n",
       "      <td>4.0</td>\n",
       "    </tr>\n",
       "    <tr>\n",
       "      <th>4</th>\n",
       "      <td>Change the background color on the main page. This will increase user engagement</td>\n",
       "      <td>3</td>\n",
       "      <td>1</td>\n",
       "      <td>1</td>\n",
       "      <td>1</td>\n",
       "      <td>1.000000</td>\n",
       "      <td>3.0</td>\n",
       "    </tr>\n",
       "  </tbody>\n",
       "</table>\n",
       "</div>"
      ],
      "text/plain": [
       "                                                                                                               hypothesis  \\\n",
       "7  Add a subscription form to all the main pages. This will help you compile a mailing list                                 \n",
       "2  Add product recommendation blocks to the store's site. This will increase conversion and average purchase size           \n",
       "0  Add two new channels for attracting traffic. This will bring 30% more users                                              \n",
       "6  Show banners with current offers and sales on the main page. This will boost conversion                                  \n",
       "8  Launch a promotion that gives users discounts on their birthdays                                                         \n",
       "3  Change the category structure. This will increase conversion since users will find the products they want more quickly   \n",
       "1  Launch your own delivery service. This will shorten delivery time                                                        \n",
       "5  Add a customer review page. This will increase the number of orders                                                      \n",
       "4  Change the background color on the main page. This will increase user engagement                                         \n",
       "\n",
       "   reach  impact  confidence  effort        ICE   RICE  \n",
       "7  10     7       8           5       11.200000  112.0  \n",
       "2  8      3       7           3       7.000000   56.0   \n",
       "0  3      10      8           6       13.333333  40.0   \n",
       "6  5      3       8           3       8.000000   40.0   \n",
       "8  1      9       9           5       16.200000  16.2   \n",
       "3  8      3       3           8       1.125000   9.0    \n",
       "1  2      5       4           10      2.000000   4.0    \n",
       "5  3      2       2           3       1.333333   4.0    \n",
       "4  3      1       1           1       1.000000   3.0    "
      ]
     },
     "execution_count": 13,
     "metadata": {},
     "output_type": "execute_result"
    }
   ],
   "source": [
    "hypotheses.sort_values(by='RICE',ascending=False)"
   ]
  },
  {
   "cell_type": "code",
   "execution_count": 14,
   "metadata": {},
   "outputs": [
    {
     "data": {
      "image/png": "[encoded data removed]",
      "text/plain": [
       "<Figure size 720x720 with 1 Axes>"
      ]
     },
     "metadata": {},
     "output_type": "display_data"
    }
   ],
   "source": [
    "x1 = hypotheses['ICE'].values\n",
    "y1 = hypotheses['ICE'].values\n",
    "\n",
    "x = hypotheses['RICE'].values\n",
    "y = hypotheses['RICE'].values\n",
    "types = hypotheses['hypothesis'].values\n",
    "\n",
    "fig, ax = plt.subplots(figsize=(10,10))\n",
    "ax.scatter(x, y)\n",
    "\n",
    "ax.set_xlabel('RED - ICE', fontsize=14)\n",
    "ax.set_ylabel('BLUE - RICE', fontsize=14)\n",
    "ax.set_title('ICE and RICE rating', fontsize=18)\n",
    "for i, txt in enumerate(types):\n",
    "    ax.annotate(txt, (x[i], y[i]), xytext=(5,5), textcoords='offset points')\n",
    "    plt.scatter(x, y, marker='x', color='blue')\n",
    "    ax.annotate(txt, (x1[i], y1[i]), xytext=(5,5), textcoords='offset points')\n",
    "    plt.scatter(x1, y1, marker='x', color='red')"
   ]
  },
  {
   "cell_type": "markdown",
   "metadata": {},
   "source": [
    "<a id=3></a>\n",
    "<div style=\"border:solid #eaeaea 2px; padding: 15px\">\n",
    "Our top four hypotheses in the ICE rank are : 8, 0, 7 and 6.  \n",
    "In the RICE rank we got - 7, 2, 0 and 6.\n",
    "\n",
    "The reason for that change is the \"Reach\" factor which accounts for how many users it will reach.  \n",
    "hypotheses number 7,0 and 6 are in the four leading in rank in both ICE and RICE.\n",
    "</div>"
   ]
  },
  {
   "cell_type": "code",
   "execution_count": 15,
   "metadata": {},
   "outputs": [
    {
     "data": {
      "text/html": [
       "<style  type=\"text/css\" >\n",
       "</style><table id=\"T_4e293_\" style='display:inline'><caption>Orders</caption><thead>    <tr>        <th class=\"blank level0\" ></th>        <th class=\"col_heading level0 col0\" >transactionId</th>        <th class=\"col_heading level0 col1\" >visitorId</th>        <th class=\"col_heading level0 col2\" >date</th>        <th class=\"col_heading level0 col3\" >revenue</th>        <th class=\"col_heading level0 col4\" >group</th>    </tr></thead><tbody>\n",
       "                <tr>\n",
       "                        <th id=\"T_4e293_level0_row0\" class=\"row_heading level0 row0\" >0</th>\n",
       "                        <td id=\"T_4e293_row0_col0\" class=\"data row0 col0\" >3667963787</td>\n",
       "                        <td id=\"T_4e293_row0_col1\" class=\"data row0 col1\" >3312258926</td>\n",
       "                        <td id=\"T_4e293_row0_col2\" class=\"data row0 col2\" >2019-08-15 00:00:00</td>\n",
       "                        <td id=\"T_4e293_row0_col3\" class=\"data row0 col3\" >30.400000</td>\n",
       "                        <td id=\"T_4e293_row0_col4\" class=\"data row0 col4\" >B</td>\n",
       "            </tr>\n",
       "            <tr>\n",
       "                        <th id=\"T_4e293_level0_row1\" class=\"row_heading level0 row1\" >1</th>\n",
       "                        <td id=\"T_4e293_row1_col0\" class=\"data row1 col0\" >2804400009</td>\n",
       "                        <td id=\"T_4e293_row1_col1\" class=\"data row1 col1\" >3642806036</td>\n",
       "                        <td id=\"T_4e293_row1_col2\" class=\"data row1 col2\" >2019-08-15 00:00:00</td>\n",
       "                        <td id=\"T_4e293_row1_col3\" class=\"data row1 col3\" >15.200000</td>\n",
       "                        <td id=\"T_4e293_row1_col4\" class=\"data row1 col4\" >B</td>\n",
       "            </tr>\n",
       "            <tr>\n",
       "                        <th id=\"T_4e293_level0_row2\" class=\"row_heading level0 row2\" >3</th>\n",
       "                        <td id=\"T_4e293_row2_col0\" class=\"data row2 col0\" >3797467345</td>\n",
       "                        <td id=\"T_4e293_row2_col1\" class=\"data row2 col1\" >1196621759</td>\n",
       "                        <td id=\"T_4e293_row2_col2\" class=\"data row2 col2\" >2019-08-15 00:00:00</td>\n",
       "                        <td id=\"T_4e293_row2_col3\" class=\"data row2 col3\" >155.100000</td>\n",
       "                        <td id=\"T_4e293_row2_col4\" class=\"data row2 col4\" >B</td>\n",
       "            </tr>\n",
       "            <tr>\n",
       "                        <th id=\"T_4e293_level0_row3\" class=\"row_heading level0 row3\" >4</th>\n",
       "                        <td id=\"T_4e293_row3_col0\" class=\"data row3 col0\" >2282983706</td>\n",
       "                        <td id=\"T_4e293_row3_col1\" class=\"data row3 col1\" >2322279887</td>\n",
       "                        <td id=\"T_4e293_row3_col2\" class=\"data row3 col2\" >2019-08-15 00:00:00</td>\n",
       "                        <td id=\"T_4e293_row3_col3\" class=\"data row3 col3\" >40.500000</td>\n",
       "                        <td id=\"T_4e293_row3_col4\" class=\"data row3 col4\" >B</td>\n",
       "            </tr>\n",
       "            <tr>\n",
       "                        <th id=\"T_4e293_level0_row4\" class=\"row_heading level0 row4\" >5</th>\n",
       "                        <td id=\"T_4e293_row4_col0\" class=\"data row4 col0\" >182168103</td>\n",
       "                        <td id=\"T_4e293_row4_col1\" class=\"data row4 col1\" >935554773</td>\n",
       "                        <td id=\"T_4e293_row4_col2\" class=\"data row4 col2\" >2019-08-15 00:00:00</td>\n",
       "                        <td id=\"T_4e293_row4_col3\" class=\"data row4 col3\" >35.000000</td>\n",
       "                        <td id=\"T_4e293_row4_col4\" class=\"data row4 col4\" >B</td>\n",
       "            </tr>\n",
       "            <tr>\n",
       "                        <th id=\"T_4e293_level0_row5\" class=\"row_heading level0 row5\" >6</th>\n",
       "                        <td id=\"T_4e293_row5_col0\" class=\"data row5 col0\" >398296753</td>\n",
       "                        <td id=\"T_4e293_row5_col1\" class=\"data row5 col1\" >2900797465</td>\n",
       "                        <td id=\"T_4e293_row5_col2\" class=\"data row5 col2\" >2019-08-15 00:00:00</td>\n",
       "                        <td id=\"T_4e293_row5_col3\" class=\"data row5 col3\" >30.600000</td>\n",
       "                        <td id=\"T_4e293_row5_col4\" class=\"data row5 col4\" >B</td>\n",
       "            </tr>\n",
       "            <tr>\n",
       "                        <th id=\"T_4e293_level0_row6\" class=\"row_heading level0 row6\" >7</th>\n",
       "                        <td id=\"T_4e293_row6_col0\" class=\"data row6 col0\" >2626614568</td>\n",
       "                        <td id=\"T_4e293_row6_col1\" class=\"data row6 col1\" >78758296</td>\n",
       "                        <td id=\"T_4e293_row6_col2\" class=\"data row6 col2\" >2019-08-15 00:00:00</td>\n",
       "                        <td id=\"T_4e293_row6_col3\" class=\"data row6 col3\" >20.100000</td>\n",
       "                        <td id=\"T_4e293_row6_col4\" class=\"data row6 col4\" >A</td>\n",
       "            </tr>\n",
       "            <tr>\n",
       "                        <th id=\"T_4e293_level0_row7\" class=\"row_heading level0 row7\" >8</th>\n",
       "                        <td id=\"T_4e293_row7_col0\" class=\"data row7 col0\" >1576988021</td>\n",
       "                        <td id=\"T_4e293_row7_col1\" class=\"data row7 col1\" >295230930</td>\n",
       "                        <td id=\"T_4e293_row7_col2\" class=\"data row7 col2\" >2019-08-15 00:00:00</td>\n",
       "                        <td id=\"T_4e293_row7_col3\" class=\"data row7 col3\" >215.900000</td>\n",
       "                        <td id=\"T_4e293_row7_col4\" class=\"data row7 col4\" >A</td>\n",
       "            </tr>\n",
       "            <tr>\n",
       "                        <th id=\"T_4e293_level0_row8\" class=\"row_heading level0 row8\" >9</th>\n",
       "                        <td id=\"T_4e293_row8_col0\" class=\"data row8 col0\" >1506739906</td>\n",
       "                        <td id=\"T_4e293_row8_col1\" class=\"data row8 col1\" >1882260405</td>\n",
       "                        <td id=\"T_4e293_row8_col2\" class=\"data row8 col2\" >2019-08-15 00:00:00</td>\n",
       "                        <td id=\"T_4e293_row8_col3\" class=\"data row8 col3\" >30.500000</td>\n",
       "                        <td id=\"T_4e293_row8_col4\" class=\"data row8 col4\" >B</td>\n",
       "            </tr>\n",
       "            <tr>\n",
       "                        <th id=\"T_4e293_level0_row9\" class=\"row_heading level0 row9\" >10</th>\n",
       "                        <td id=\"T_4e293_row9_col0\" class=\"data row9 col0\" >3649131742</td>\n",
       "                        <td id=\"T_4e293_row9_col1\" class=\"data row9 col1\" >879864040</td>\n",
       "                        <td id=\"T_4e293_row9_col2\" class=\"data row9 col2\" >2019-08-15 00:00:00</td>\n",
       "                        <td id=\"T_4e293_row9_col3\" class=\"data row9 col3\" >65.700000</td>\n",
       "                        <td id=\"T_4e293_row9_col4\" class=\"data row9 col4\" >A</td>\n",
       "            </tr>\n",
       "    </tbody></table>   <style  type=\"text/css\" >\n",
       "</style><table id=\"T_73070_\" style='display:inline'><caption>Visits</caption><thead>    <tr>        <th class=\"blank level0\" ></th>        <th class=\"col_heading level0 col0\" >date</th>        <th class=\"col_heading level0 col1\" >group</th>        <th class=\"col_heading level0 col2\" >visits</th>    </tr></thead><tbody>\n",
       "                <tr>\n",
       "                        <th id=\"T_73070_level0_row0\" class=\"row_heading level0 row0\" >0</th>\n",
       "                        <td id=\"T_73070_row0_col0\" class=\"data row0 col0\" >2019-08-01 00:00:00</td>\n",
       "                        <td id=\"T_73070_row0_col1\" class=\"data row0 col1\" >A</td>\n",
       "                        <td id=\"T_73070_row0_col2\" class=\"data row0 col2\" >719</td>\n",
       "            </tr>\n",
       "            <tr>\n",
       "                        <th id=\"T_73070_level0_row1\" class=\"row_heading level0 row1\" >1</th>\n",
       "                        <td id=\"T_73070_row1_col0\" class=\"data row1 col0\" >2019-08-02 00:00:00</td>\n",
       "                        <td id=\"T_73070_row1_col1\" class=\"data row1 col1\" >A</td>\n",
       "                        <td id=\"T_73070_row1_col2\" class=\"data row1 col2\" >619</td>\n",
       "            </tr>\n",
       "            <tr>\n",
       "                        <th id=\"T_73070_level0_row2\" class=\"row_heading level0 row2\" >2</th>\n",
       "                        <td id=\"T_73070_row2_col0\" class=\"data row2 col0\" >2019-08-03 00:00:00</td>\n",
       "                        <td id=\"T_73070_row2_col1\" class=\"data row2 col1\" >A</td>\n",
       "                        <td id=\"T_73070_row2_col2\" class=\"data row2 col2\" >507</td>\n",
       "            </tr>\n",
       "            <tr>\n",
       "                        <th id=\"T_73070_level0_row3\" class=\"row_heading level0 row3\" >3</th>\n",
       "                        <td id=\"T_73070_row3_col0\" class=\"data row3 col0\" >2019-08-04 00:00:00</td>\n",
       "                        <td id=\"T_73070_row3_col1\" class=\"data row3 col1\" >A</td>\n",
       "                        <td id=\"T_73070_row3_col2\" class=\"data row3 col2\" >717</td>\n",
       "            </tr>\n",
       "            <tr>\n",
       "                        <th id=\"T_73070_level0_row4\" class=\"row_heading level0 row4\" >4</th>\n",
       "                        <td id=\"T_73070_row4_col0\" class=\"data row4 col0\" >2019-08-05 00:00:00</td>\n",
       "                        <td id=\"T_73070_row4_col1\" class=\"data row4 col1\" >A</td>\n",
       "                        <td id=\"T_73070_row4_col2\" class=\"data row4 col2\" >756</td>\n",
       "            </tr>\n",
       "            <tr>\n",
       "                        <th id=\"T_73070_level0_row5\" class=\"row_heading level0 row5\" >5</th>\n",
       "                        <td id=\"T_73070_row5_col0\" class=\"data row5 col0\" >2019-08-06 00:00:00</td>\n",
       "                        <td id=\"T_73070_row5_col1\" class=\"data row5 col1\" >A</td>\n",
       "                        <td id=\"T_73070_row5_col2\" class=\"data row5 col2\" >667</td>\n",
       "            </tr>\n",
       "            <tr>\n",
       "                        <th id=\"T_73070_level0_row6\" class=\"row_heading level0 row6\" >6</th>\n",
       "                        <td id=\"T_73070_row6_col0\" class=\"data row6 col0\" >2019-08-07 00:00:00</td>\n",
       "                        <td id=\"T_73070_row6_col1\" class=\"data row6 col1\" >A</td>\n",
       "                        <td id=\"T_73070_row6_col2\" class=\"data row6 col2\" >644</td>\n",
       "            </tr>\n",
       "            <tr>\n",
       "                        <th id=\"T_73070_level0_row7\" class=\"row_heading level0 row7\" >7</th>\n",
       "                        <td id=\"T_73070_row7_col0\" class=\"data row7 col0\" >2019-08-08 00:00:00</td>\n",
       "                        <td id=\"T_73070_row7_col1\" class=\"data row7 col1\" >A</td>\n",
       "                        <td id=\"T_73070_row7_col2\" class=\"data row7 col2\" >610</td>\n",
       "            </tr>\n",
       "            <tr>\n",
       "                        <th id=\"T_73070_level0_row8\" class=\"row_heading level0 row8\" >8</th>\n",
       "                        <td id=\"T_73070_row8_col0\" class=\"data row8 col0\" >2019-08-09 00:00:00</td>\n",
       "                        <td id=\"T_73070_row8_col1\" class=\"data row8 col1\" >A</td>\n",
       "                        <td id=\"T_73070_row8_col2\" class=\"data row8 col2\" >617</td>\n",
       "            </tr>\n",
       "            <tr>\n",
       "                        <th id=\"T_73070_level0_row9\" class=\"row_heading level0 row9\" >9</th>\n",
       "                        <td id=\"T_73070_row9_col0\" class=\"data row9 col0\" >2019-08-10 00:00:00</td>\n",
       "                        <td id=\"T_73070_row9_col1\" class=\"data row9 col1\" >A</td>\n",
       "                        <td id=\"T_73070_row9_col2\" class=\"data row9 col2\" >406</td>\n",
       "            </tr>\n",
       "    </tbody></table>   "
      ],
      "text/plain": [
       "<IPython.core.display.HTML object>"
      ]
     },
     "metadata": {},
     "output_type": "display_data"
    }
   ],
   "source": [
    "display_side_by_side([orders.head(10), visits.head(10)],['Orders','Visits'])"
   ]
  },
  {
   "cell_type": "code",
   "execution_count": 16,
   "metadata": {},
   "outputs": [
    {
     "data": {
      "text/html": [
       "<div>\n",
       "<style scoped>\n",
       "    .dataframe tbody tr th:only-of-type {\n",
       "        vertical-align: middle;\n",
       "    }\n",
       "\n",
       "    .dataframe tbody tr th {\n",
       "        vertical-align: top;\n",
       "    }\n",
       "\n",
       "    .dataframe thead th {\n",
       "        text-align: right;\n",
       "    }\n",
       "</style>\n",
       "<table border=\"1\" class=\"dataframe\">\n",
       "  <thead>\n",
       "    <tr style=\"text-align: right;\">\n",
       "      <th></th>\n",
       "      <th>date</th>\n",
       "      <th>group</th>\n",
       "    </tr>\n",
       "  </thead>\n",
       "  <tbody>\n",
       "    <tr>\n",
       "      <th>0</th>\n",
       "      <td>2019-08-15</td>\n",
       "      <td>B</td>\n",
       "    </tr>\n",
       "    <tr>\n",
       "      <th>7</th>\n",
       "      <td>2019-08-15</td>\n",
       "      <td>A</td>\n",
       "    </tr>\n",
       "    <tr>\n",
       "      <th>45</th>\n",
       "      <td>2019-08-16</td>\n",
       "      <td>A</td>\n",
       "    </tr>\n",
       "    <tr>\n",
       "      <th>47</th>\n",
       "      <td>2019-08-16</td>\n",
       "      <td>B</td>\n",
       "    </tr>\n",
       "    <tr>\n",
       "      <th>55</th>\n",
       "      <td>2019-08-01</td>\n",
       "      <td>A</td>\n",
       "    </tr>\n",
       "  </tbody>\n",
       "</table>\n",
       "</div>"
      ],
      "text/plain": [
       "         date group\n",
       "0  2019-08-15  B   \n",
       "7  2019-08-15  A   \n",
       "45 2019-08-16  A   \n",
       "47 2019-08-16  B   \n",
       "55 2019-08-01  A   "
      ]
     },
     "execution_count": 16,
     "metadata": {},
     "output_type": "execute_result"
    }
   ],
   "source": [
    "datesGroups = orders[['date','group']].drop_duplicates()\n",
    "datesGroups.head()"
   ]
  },
  {
   "cell_type": "code",
   "execution_count": 17,
   "metadata": {},
   "outputs": [
    {
     "data": {
      "text/html": [
       "<div>\n",
       "<style scoped>\n",
       "    .dataframe tbody tr th:only-of-type {\n",
       "        vertical-align: middle;\n",
       "    }\n",
       "\n",
       "    .dataframe tbody tr th {\n",
       "        vertical-align: top;\n",
       "    }\n",
       "\n",
       "    .dataframe thead th {\n",
       "        text-align: right;\n",
       "    }\n",
       "</style>\n",
       "<table border=\"1\" class=\"dataframe\">\n",
       "  <thead>\n",
       "    <tr style=\"text-align: right;\">\n",
       "      <th></th>\n",
       "      <th>transactionId</th>\n",
       "      <th>visitorId</th>\n",
       "      <th>date</th>\n",
       "      <th>revenue</th>\n",
       "      <th>group</th>\n",
       "    </tr>\n",
       "  </thead>\n",
       "  <tbody>\n",
       "    <tr>\n",
       "      <th>0</th>\n",
       "      <td>3667963787</td>\n",
       "      <td>3312258926</td>\n",
       "      <td>2019-08-15</td>\n",
       "      <td>30.4</td>\n",
       "      <td>B</td>\n",
       "    </tr>\n",
       "    <tr>\n",
       "      <th>1</th>\n",
       "      <td>2804400009</td>\n",
       "      <td>3642806036</td>\n",
       "      <td>2019-08-15</td>\n",
       "      <td>15.2</td>\n",
       "      <td>B</td>\n",
       "    </tr>\n",
       "    <tr>\n",
       "      <th>3</th>\n",
       "      <td>3797467345</td>\n",
       "      <td>1196621759</td>\n",
       "      <td>2019-08-15</td>\n",
       "      <td>155.1</td>\n",
       "      <td>B</td>\n",
       "    </tr>\n",
       "    <tr>\n",
       "      <th>4</th>\n",
       "      <td>2282983706</td>\n",
       "      <td>2322279887</td>\n",
       "      <td>2019-08-15</td>\n",
       "      <td>40.5</td>\n",
       "      <td>B</td>\n",
       "    </tr>\n",
       "    <tr>\n",
       "      <th>5</th>\n",
       "      <td>182168103</td>\n",
       "      <td>935554773</td>\n",
       "      <td>2019-08-15</td>\n",
       "      <td>35.0</td>\n",
       "      <td>B</td>\n",
       "    </tr>\n",
       "    <tr>\n",
       "      <th>...</th>\n",
       "      <td>...</td>\n",
       "      <td>...</td>\n",
       "      <td>...</td>\n",
       "      <td>...</td>\n",
       "      <td>...</td>\n",
       "    </tr>\n",
       "    <tr>\n",
       "      <th>1191</th>\n",
       "      <td>3592955527</td>\n",
       "      <td>608641596</td>\n",
       "      <td>2019-08-14</td>\n",
       "      <td>255.7</td>\n",
       "      <td>B</td>\n",
       "    </tr>\n",
       "    <tr>\n",
       "      <th>1192</th>\n",
       "      <td>2662137336</td>\n",
       "      <td>3733762160</td>\n",
       "      <td>2019-08-14</td>\n",
       "      <td>100.8</td>\n",
       "      <td>B</td>\n",
       "    </tr>\n",
       "    <tr>\n",
       "      <th>1193</th>\n",
       "      <td>2203539145</td>\n",
       "      <td>370388673</td>\n",
       "      <td>2019-08-14</td>\n",
       "      <td>50.1</td>\n",
       "      <td>A</td>\n",
       "    </tr>\n",
       "    <tr>\n",
       "      <th>1194</th>\n",
       "      <td>1807773912</td>\n",
       "      <td>573423106</td>\n",
       "      <td>2019-08-14</td>\n",
       "      <td>165.3</td>\n",
       "      <td>A</td>\n",
       "    </tr>\n",
       "    <tr>\n",
       "      <th>1196</th>\n",
       "      <td>3936777065</td>\n",
       "      <td>2108080724</td>\n",
       "      <td>2019-08-15</td>\n",
       "      <td>3120.1</td>\n",
       "      <td>B</td>\n",
       "    </tr>\n",
       "  </tbody>\n",
       "</table>\n",
       "<p>1016 rows × 5 columns</p>\n",
       "</div>"
      ],
      "text/plain": [
       "      transactionId   visitorId       date  revenue group\n",
       "0     3667963787     3312258926 2019-08-15  30.4     B   \n",
       "1     2804400009     3642806036 2019-08-15  15.2     B   \n",
       "3     3797467345     1196621759 2019-08-15  155.1    B   \n",
       "4     2282983706     2322279887 2019-08-15  40.5     B   \n",
       "5     182168103      935554773  2019-08-15  35.0     B   \n",
       "...         ...            ...         ...   ...    ..   \n",
       "1191  3592955527     608641596  2019-08-14  255.7    B   \n",
       "1192  2662137336     3733762160 2019-08-14  100.8    B   \n",
       "1193  2203539145     370388673  2019-08-14  50.1     A   \n",
       "1194  1807773912     573423106  2019-08-14  165.3    A   \n",
       "1196  3936777065     2108080724 2019-08-15  3120.1   B   \n",
       "\n",
       "[1016 rows x 5 columns]"
      ]
     },
     "execution_count": 17,
     "metadata": {},
     "output_type": "execute_result"
    }
   ],
   "source": [
    "orders"
   ]
  },
  {
   "cell_type": "code",
   "execution_count": 18,
   "metadata": {},
   "outputs": [],
   "source": [
    "ordersAggregated = datesGroups.apply(lambda x: orders[np.logical_and(orders['date'] <= x['date'], orders['group'] == x['group'])]\n",
    "                                     .agg({'date':'max', 'group':'max', 'transactionId':'nunique','visitorId':'nunique', 'revenue':'sum'}), axis=1)\\\n",
    "                                     .sort_values(by=['date','group'])\n",
    "visitsAggregated = datesGroups.apply(lambda x: visits[np.logical_and(visits['date'] <= x['date'], visits['group'] == x['group'])]\n",
    "                                     .agg({'date':'max', 'group':'max', 'visits':'sum'}), axis=1)\\\n",
    "                                     .sort_values(by=['date','group'])"
   ]
  },
  {
   "cell_type": "code",
   "execution_count": 19,
   "metadata": {},
   "outputs": [
    {
     "data": {
      "text/html": [
       "<style  type=\"text/css\" >\n",
       "</style><table id=\"T_69b62_\" style='display:inline'><caption>Orders agg</caption><thead>    <tr>        <th class=\"blank level0\" ></th>        <th class=\"col_heading level0 col0\" >date</th>        <th class=\"col_heading level0 col1\" >group</th>        <th class=\"col_heading level0 col2\" >transactionId</th>        <th class=\"col_heading level0 col3\" >visitorId</th>        <th class=\"col_heading level0 col4\" >revenue</th>    </tr></thead><tbody>\n",
       "                <tr>\n",
       "                        <th id=\"T_69b62_level0_row0\" class=\"row_heading level0 row0\" >55</th>\n",
       "                        <td id=\"T_69b62_row0_col0\" class=\"data row0 col0\" >2019-08-01 00:00:00</td>\n",
       "                        <td id=\"T_69b62_row0_col1\" class=\"data row0 col1\" >A</td>\n",
       "                        <td id=\"T_69b62_row0_col2\" class=\"data row0 col2\" >23</td>\n",
       "                        <td id=\"T_69b62_row0_col3\" class=\"data row0 col3\" >19</td>\n",
       "                        <td id=\"T_69b62_row0_col4\" class=\"data row0 col4\" >2266.600000</td>\n",
       "            </tr>\n",
       "            <tr>\n",
       "                        <th id=\"T_69b62_level0_row1\" class=\"row_heading level0 row1\" >66</th>\n",
       "                        <td id=\"T_69b62_row1_col0\" class=\"data row1 col0\" >2019-08-01 00:00:00</td>\n",
       "                        <td id=\"T_69b62_row1_col1\" class=\"data row1 col1\" >B</td>\n",
       "                        <td id=\"T_69b62_row1_col2\" class=\"data row1 col2\" >17</td>\n",
       "                        <td id=\"T_69b62_row1_col3\" class=\"data row1 col3\" >17</td>\n",
       "                        <td id=\"T_69b62_row1_col4\" class=\"data row1 col4\" >967.200000</td>\n",
       "            </tr>\n",
       "            <tr>\n",
       "                        <th id=\"T_69b62_level0_row2\" class=\"row_heading level0 row2\" >175</th>\n",
       "                        <td id=\"T_69b62_row2_col0\" class=\"data row2 col0\" >2019-08-02 00:00:00</td>\n",
       "                        <td id=\"T_69b62_row2_col1\" class=\"data row2 col1\" >A</td>\n",
       "                        <td id=\"T_69b62_row2_col2\" class=\"data row2 col2\" >42</td>\n",
       "                        <td id=\"T_69b62_row2_col3\" class=\"data row2 col3\" >36</td>\n",
       "                        <td id=\"T_69b62_row2_col4\" class=\"data row2 col4\" >3734.900000</td>\n",
       "            </tr>\n",
       "            <tr>\n",
       "                        <th id=\"T_69b62_level0_row3\" class=\"row_heading level0 row3\" >173</th>\n",
       "                        <td id=\"T_69b62_row3_col0\" class=\"data row3 col0\" >2019-08-02 00:00:00</td>\n",
       "                        <td id=\"T_69b62_row3_col1\" class=\"data row3 col1\" >B</td>\n",
       "                        <td id=\"T_69b62_row3_col2\" class=\"data row3 col2\" >40</td>\n",
       "                        <td id=\"T_69b62_row3_col3\" class=\"data row3 col3\" >39</td>\n",
       "                        <td id=\"T_69b62_row3_col4\" class=\"data row3 col4\" >3535.300000</td>\n",
       "            </tr>\n",
       "            <tr>\n",
       "                        <th id=\"T_69b62_level0_row4\" class=\"row_heading level0 row4\" >291</th>\n",
       "                        <td id=\"T_69b62_row4_col0\" class=\"data row4 col0\" >2019-08-03 00:00:00</td>\n",
       "                        <td id=\"T_69b62_row4_col1\" class=\"data row4 col1\" >A</td>\n",
       "                        <td id=\"T_69b62_row4_col2\" class=\"data row4 col2\" >66</td>\n",
       "                        <td id=\"T_69b62_row4_col3\" class=\"data row4 col3\" >60</td>\n",
       "                        <td id=\"T_69b62_row4_col4\" class=\"data row4 col4\" >5550.100000</td>\n",
       "            </tr>\n",
       "            <tr>\n",
       "                        <th id=\"T_69b62_level0_row5\" class=\"row_heading level0 row5\" >383</th>\n",
       "                        <td id=\"T_69b62_row5_col0\" class=\"data row5 col0\" >2019-08-03 00:00:00</td>\n",
       "                        <td id=\"T_69b62_row5_col1\" class=\"data row5 col1\" >B</td>\n",
       "                        <td id=\"T_69b62_row5_col2\" class=\"data row5 col2\" >54</td>\n",
       "                        <td id=\"T_69b62_row5_col3\" class=\"data row5 col3\" >53</td>\n",
       "                        <td id=\"T_69b62_row5_col4\" class=\"data row5 col4\" >4606.900000</td>\n",
       "            </tr>\n",
       "            <tr>\n",
       "                        <th id=\"T_69b62_level0_row6\" class=\"row_heading level0 row6\" >499</th>\n",
       "                        <td id=\"T_69b62_row6_col0\" class=\"data row6 col0\" >2019-08-04 00:00:00</td>\n",
       "                        <td id=\"T_69b62_row6_col1\" class=\"data row6 col1\" >A</td>\n",
       "                        <td id=\"T_69b62_row6_col2\" class=\"data row6 col2\" >77</td>\n",
       "                        <td id=\"T_69b62_row6_col3\" class=\"data row6 col3\" >71</td>\n",
       "                        <td id=\"T_69b62_row6_col4\" class=\"data row6 col4\" >6225.600000</td>\n",
       "            </tr>\n",
       "            <tr>\n",
       "                        <th id=\"T_69b62_level0_row7\" class=\"row_heading level0 row7\" >498</th>\n",
       "                        <td id=\"T_69b62_row7_col0\" class=\"data row7 col0\" >2019-08-04 00:00:00</td>\n",
       "                        <td id=\"T_69b62_row7_col1\" class=\"data row7 col1\" >B</td>\n",
       "                        <td id=\"T_69b62_row7_col2\" class=\"data row7 col2\" >68</td>\n",
       "                        <td id=\"T_69b62_row7_col3\" class=\"data row7 col3\" >66</td>\n",
       "                        <td id=\"T_69b62_row7_col4\" class=\"data row7 col4\" >6138.500000</td>\n",
       "            </tr>\n",
       "            <tr>\n",
       "                        <th id=\"T_69b62_level0_row8\" class=\"row_heading level0 row8\" >719</th>\n",
       "                        <td id=\"T_69b62_row8_col0\" class=\"data row8 col0\" >2019-08-05 00:00:00</td>\n",
       "                        <td id=\"T_69b62_row8_col1\" class=\"data row8 col1\" >A</td>\n",
       "                        <td id=\"T_69b62_row8_col2\" class=\"data row8 col2\" >99</td>\n",
       "                        <td id=\"T_69b62_row8_col3\" class=\"data row8 col3\" >92</td>\n",
       "                        <td id=\"T_69b62_row8_col4\" class=\"data row8 col4\" >7623.600000</td>\n",
       "            </tr>\n",
       "            <tr>\n",
       "                        <th id=\"T_69b62_level0_row9\" class=\"row_heading level0 row9\" >699</th>\n",
       "                        <td id=\"T_69b62_row9_col0\" class=\"data row9 col0\" >2019-08-05 00:00:00</td>\n",
       "                        <td id=\"T_69b62_row9_col1\" class=\"data row9 col1\" >B</td>\n",
       "                        <td id=\"T_69b62_row9_col2\" class=\"data row9 col2\" >89</td>\n",
       "                        <td id=\"T_69b62_row9_col3\" class=\"data row9 col3\" >87</td>\n",
       "                        <td id=\"T_69b62_row9_col4\" class=\"data row9 col4\" >7587.800000</td>\n",
       "            </tr>\n",
       "            <tr>\n",
       "                        <th id=\"T_69b62_level0_row10\" class=\"row_heading level0 row10\" >362</th>\n",
       "                        <td id=\"T_69b62_row10_col0\" class=\"data row10 col0\" >2019-08-06 00:00:00</td>\n",
       "                        <td id=\"T_69b62_row10_col1\" class=\"data row10 col1\" >A</td>\n",
       "                        <td id=\"T_69b62_row10_col2\" class=\"data row10 col2\" >114</td>\n",
       "                        <td id=\"T_69b62_row10_col3\" class=\"data row10 col3\" >104</td>\n",
       "                        <td id=\"T_69b62_row10_col4\" class=\"data row10 col4\" >8292.000000</td>\n",
       "            </tr>\n",
       "            <tr>\n",
       "                        <th id=\"T_69b62_level0_row11\" class=\"row_heading level0 row11\" >360</th>\n",
       "                        <td id=\"T_69b62_row11_col0\" class=\"data row11 col0\" >2019-08-06 00:00:00</td>\n",
       "                        <td id=\"T_69b62_row11_col1\" class=\"data row11 col1\" >B</td>\n",
       "                        <td id=\"T_69b62_row11_col2\" class=\"data row11 col2\" >112</td>\n",
       "                        <td id=\"T_69b62_row11_col3\" class=\"data row11 col3\" >109</td>\n",
       "                        <td id=\"T_69b62_row11_col4\" class=\"data row11 col4\" >10957.100000</td>\n",
       "            </tr>\n",
       "            <tr>\n",
       "                        <th id=\"T_69b62_level0_row12\" class=\"row_heading level0 row12\" >580</th>\n",
       "                        <td id=\"T_69b62_row12_col0\" class=\"data row12 col0\" >2019-08-07 00:00:00</td>\n",
       "                        <td id=\"T_69b62_row12_col1\" class=\"data row12 col1\" >A</td>\n",
       "                        <td id=\"T_69b62_row12_col2\" class=\"data row12 col2\" >130</td>\n",
       "                        <td id=\"T_69b62_row12_col3\" class=\"data row12 col3\" >120</td>\n",
       "                        <td id=\"T_69b62_row12_col4\" class=\"data row12 col4\" >10234.000000</td>\n",
       "            </tr>\n",
       "            <tr>\n",
       "                        <th id=\"T_69b62_level0_row13\" class=\"row_heading level0 row13\" >581</th>\n",
       "                        <td id=\"T_69b62_row13_col0\" class=\"data row13 col0\" >2019-08-07 00:00:00</td>\n",
       "                        <td id=\"T_69b62_row13_col1\" class=\"data row13 col1\" >B</td>\n",
       "                        <td id=\"T_69b62_row13_col2\" class=\"data row13 col2\" >135</td>\n",
       "                        <td id=\"T_69b62_row13_col3\" class=\"data row13 col3\" >132</td>\n",
       "                        <td id=\"T_69b62_row13_col4\" class=\"data row13 col4\" >14392.700000</td>\n",
       "            </tr>\n",
       "            <tr>\n",
       "                        <th id=\"T_69b62_level0_row14\" class=\"row_heading level0 row14\" >835</th>\n",
       "                        <td id=\"T_69b62_row14_col0\" class=\"data row14 col0\" >2019-08-08 00:00:00</td>\n",
       "                        <td id=\"T_69b62_row14_col1\" class=\"data row14 col1\" >A</td>\n",
       "                        <td id=\"T_69b62_row14_col2\" class=\"data row14 col2\" >144</td>\n",
       "                        <td id=\"T_69b62_row14_col3\" class=\"data row14 col3\" >133</td>\n",
       "                        <td id=\"T_69b62_row14_col4\" class=\"data row14 col4\" >11638.800000</td>\n",
       "            </tr>\n",
       "    </tbody></table>   <style  type=\"text/css\" >\n",
       "</style><table id=\"T_9feb8_\" style='display:inline'><caption>Visits agg</caption><thead>    <tr>        <th class=\"blank level0\" ></th>        <th class=\"col_heading level0 col0\" >date</th>        <th class=\"col_heading level0 col1\" >group</th>        <th class=\"col_heading level0 col2\" >visits</th>    </tr></thead><tbody>\n",
       "                <tr>\n",
       "                        <th id=\"T_9feb8_level0_row0\" class=\"row_heading level0 row0\" >55</th>\n",
       "                        <td id=\"T_9feb8_row0_col0\" class=\"data row0 col0\" >2019-08-01 00:00:00</td>\n",
       "                        <td id=\"T_9feb8_row0_col1\" class=\"data row0 col1\" >A</td>\n",
       "                        <td id=\"T_9feb8_row0_col2\" class=\"data row0 col2\" >719</td>\n",
       "            </tr>\n",
       "            <tr>\n",
       "                        <th id=\"T_9feb8_level0_row1\" class=\"row_heading level0 row1\" >66</th>\n",
       "                        <td id=\"T_9feb8_row1_col0\" class=\"data row1 col0\" >2019-08-01 00:00:00</td>\n",
       "                        <td id=\"T_9feb8_row1_col1\" class=\"data row1 col1\" >B</td>\n",
       "                        <td id=\"T_9feb8_row1_col2\" class=\"data row1 col2\" >713</td>\n",
       "            </tr>\n",
       "            <tr>\n",
       "                        <th id=\"T_9feb8_level0_row2\" class=\"row_heading level0 row2\" >175</th>\n",
       "                        <td id=\"T_9feb8_row2_col0\" class=\"data row2 col0\" >2019-08-02 00:00:00</td>\n",
       "                        <td id=\"T_9feb8_row2_col1\" class=\"data row2 col1\" >A</td>\n",
       "                        <td id=\"T_9feb8_row2_col2\" class=\"data row2 col2\" >1338</td>\n",
       "            </tr>\n",
       "            <tr>\n",
       "                        <th id=\"T_9feb8_level0_row3\" class=\"row_heading level0 row3\" >173</th>\n",
       "                        <td id=\"T_9feb8_row3_col0\" class=\"data row3 col0\" >2019-08-02 00:00:00</td>\n",
       "                        <td id=\"T_9feb8_row3_col1\" class=\"data row3 col1\" >B</td>\n",
       "                        <td id=\"T_9feb8_row3_col2\" class=\"data row3 col2\" >1294</td>\n",
       "            </tr>\n",
       "            <tr>\n",
       "                        <th id=\"T_9feb8_level0_row4\" class=\"row_heading level0 row4\" >291</th>\n",
       "                        <td id=\"T_9feb8_row4_col0\" class=\"data row4 col0\" >2019-08-03 00:00:00</td>\n",
       "                        <td id=\"T_9feb8_row4_col1\" class=\"data row4 col1\" >A</td>\n",
       "                        <td id=\"T_9feb8_row4_col2\" class=\"data row4 col2\" >1845</td>\n",
       "            </tr>\n",
       "            <tr>\n",
       "                        <th id=\"T_9feb8_level0_row5\" class=\"row_heading level0 row5\" >383</th>\n",
       "                        <td id=\"T_9feb8_row5_col0\" class=\"data row5 col0\" >2019-08-03 00:00:00</td>\n",
       "                        <td id=\"T_9feb8_row5_col1\" class=\"data row5 col1\" >B</td>\n",
       "                        <td id=\"T_9feb8_row5_col2\" class=\"data row5 col2\" >1803</td>\n",
       "            </tr>\n",
       "            <tr>\n",
       "                        <th id=\"T_9feb8_level0_row6\" class=\"row_heading level0 row6\" >499</th>\n",
       "                        <td id=\"T_9feb8_row6_col0\" class=\"data row6 col0\" >2019-08-04 00:00:00</td>\n",
       "                        <td id=\"T_9feb8_row6_col1\" class=\"data row6 col1\" >A</td>\n",
       "                        <td id=\"T_9feb8_row6_col2\" class=\"data row6 col2\" >2562</td>\n",
       "            </tr>\n",
       "            <tr>\n",
       "                        <th id=\"T_9feb8_level0_row7\" class=\"row_heading level0 row7\" >498</th>\n",
       "                        <td id=\"T_9feb8_row7_col0\" class=\"data row7 col0\" >2019-08-04 00:00:00</td>\n",
       "                        <td id=\"T_9feb8_row7_col1\" class=\"data row7 col1\" >B</td>\n",
       "                        <td id=\"T_9feb8_row7_col2\" class=\"data row7 col2\" >2573</td>\n",
       "            </tr>\n",
       "            <tr>\n",
       "                        <th id=\"T_9feb8_level0_row8\" class=\"row_heading level0 row8\" >719</th>\n",
       "                        <td id=\"T_9feb8_row8_col0\" class=\"data row8 col0\" >2019-08-05 00:00:00</td>\n",
       "                        <td id=\"T_9feb8_row8_col1\" class=\"data row8 col1\" >A</td>\n",
       "                        <td id=\"T_9feb8_row8_col2\" class=\"data row8 col2\" >3318</td>\n",
       "            </tr>\n",
       "            <tr>\n",
       "                        <th id=\"T_9feb8_level0_row9\" class=\"row_heading level0 row9\" >699</th>\n",
       "                        <td id=\"T_9feb8_row9_col0\" class=\"data row9 col0\" >2019-08-05 00:00:00</td>\n",
       "                        <td id=\"T_9feb8_row9_col1\" class=\"data row9 col1\" >B</td>\n",
       "                        <td id=\"T_9feb8_row9_col2\" class=\"data row9 col2\" >3280</td>\n",
       "            </tr>\n",
       "            <tr>\n",
       "                        <th id=\"T_9feb8_level0_row10\" class=\"row_heading level0 row10\" >362</th>\n",
       "                        <td id=\"T_9feb8_row10_col0\" class=\"data row10 col0\" >2019-08-06 00:00:00</td>\n",
       "                        <td id=\"T_9feb8_row10_col1\" class=\"data row10 col1\" >A</td>\n",
       "                        <td id=\"T_9feb8_row10_col2\" class=\"data row10 col2\" >3985</td>\n",
       "            </tr>\n",
       "            <tr>\n",
       "                        <th id=\"T_9feb8_level0_row11\" class=\"row_heading level0 row11\" >360</th>\n",
       "                        <td id=\"T_9feb8_row11_col0\" class=\"data row11 col0\" >2019-08-06 00:00:00</td>\n",
       "                        <td id=\"T_9feb8_row11_col1\" class=\"data row11 col1\" >B</td>\n",
       "                        <td id=\"T_9feb8_row11_col2\" class=\"data row11 col2\" >3935</td>\n",
       "            </tr>\n",
       "            <tr>\n",
       "                        <th id=\"T_9feb8_level0_row12\" class=\"row_heading level0 row12\" >580</th>\n",
       "                        <td id=\"T_9feb8_row12_col0\" class=\"data row12 col0\" >2019-08-07 00:00:00</td>\n",
       "                        <td id=\"T_9feb8_row12_col1\" class=\"data row12 col1\" >A</td>\n",
       "                        <td id=\"T_9feb8_row12_col2\" class=\"data row12 col2\" >4629</td>\n",
       "            </tr>\n",
       "            <tr>\n",
       "                        <th id=\"T_9feb8_level0_row13\" class=\"row_heading level0 row13\" >581</th>\n",
       "                        <td id=\"T_9feb8_row13_col0\" class=\"data row13 col0\" >2019-08-07 00:00:00</td>\n",
       "                        <td id=\"T_9feb8_row13_col1\" class=\"data row13 col1\" >B</td>\n",
       "                        <td id=\"T_9feb8_row13_col2\" class=\"data row13 col2\" >4644</td>\n",
       "            </tr>\n",
       "            <tr>\n",
       "                        <th id=\"T_9feb8_level0_row14\" class=\"row_heading level0 row14\" >835</th>\n",
       "                        <td id=\"T_9feb8_row14_col0\" class=\"data row14 col0\" >2019-08-08 00:00:00</td>\n",
       "                        <td id=\"T_9feb8_row14_col1\" class=\"data row14 col1\" >A</td>\n",
       "                        <td id=\"T_9feb8_row14_col2\" class=\"data row14 col2\" >5239</td>\n",
       "            </tr>\n",
       "    </tbody></table>   "
      ],
      "text/plain": [
       "<IPython.core.display.HTML object>"
      ]
     },
     "metadata": {},
     "output_type": "display_data"
    }
   ],
   "source": [
    "display_side_by_side([ordersAggregated.head(15), visitsAggregated.head(15)],['Orders agg','Visits agg'])"
   ]
  },
  {
   "cell_type": "code",
   "execution_count": 20,
   "metadata": {},
   "outputs": [
    {
     "data": {
      "text/html": [
       "<div>\n",
       "<style scoped>\n",
       "    .dataframe tbody tr th:only-of-type {\n",
       "        vertical-align: middle;\n",
       "    }\n",
       "\n",
       "    .dataframe tbody tr th {\n",
       "        vertical-align: top;\n",
       "    }\n",
       "\n",
       "    .dataframe thead th {\n",
       "        text-align: right;\n",
       "    }\n",
       "</style>\n",
       "<table border=\"1\" class=\"dataframe\">\n",
       "  <thead>\n",
       "    <tr style=\"text-align: right;\">\n",
       "      <th></th>\n",
       "      <th>date</th>\n",
       "      <th>group</th>\n",
       "      <th>orders</th>\n",
       "      <th>buyers</th>\n",
       "      <th>revenue</th>\n",
       "      <th>visits</th>\n",
       "    </tr>\n",
       "  </thead>\n",
       "  <tbody>\n",
       "    <tr>\n",
       "      <th>0</th>\n",
       "      <td>2019-08-01</td>\n",
       "      <td>A</td>\n",
       "      <td>23</td>\n",
       "      <td>19</td>\n",
       "      <td>2266.6</td>\n",
       "      <td>719</td>\n",
       "    </tr>\n",
       "    <tr>\n",
       "      <th>1</th>\n",
       "      <td>2019-08-01</td>\n",
       "      <td>B</td>\n",
       "      <td>17</td>\n",
       "      <td>17</td>\n",
       "      <td>967.2</td>\n",
       "      <td>713</td>\n",
       "    </tr>\n",
       "    <tr>\n",
       "      <th>2</th>\n",
       "      <td>2019-08-02</td>\n",
       "      <td>A</td>\n",
       "      <td>42</td>\n",
       "      <td>36</td>\n",
       "      <td>3734.9</td>\n",
       "      <td>1338</td>\n",
       "    </tr>\n",
       "    <tr>\n",
       "      <th>3</th>\n",
       "      <td>2019-08-02</td>\n",
       "      <td>B</td>\n",
       "      <td>40</td>\n",
       "      <td>39</td>\n",
       "      <td>3535.3</td>\n",
       "      <td>1294</td>\n",
       "    </tr>\n",
       "    <tr>\n",
       "      <th>4</th>\n",
       "      <td>2019-08-03</td>\n",
       "      <td>A</td>\n",
       "      <td>66</td>\n",
       "      <td>60</td>\n",
       "      <td>5550.1</td>\n",
       "      <td>1845</td>\n",
       "    </tr>\n",
       "    <tr>\n",
       "      <th>5</th>\n",
       "      <td>2019-08-03</td>\n",
       "      <td>B</td>\n",
       "      <td>54</td>\n",
       "      <td>53</td>\n",
       "      <td>4606.9</td>\n",
       "      <td>1803</td>\n",
       "    </tr>\n",
       "    <tr>\n",
       "      <th>6</th>\n",
       "      <td>2019-08-04</td>\n",
       "      <td>A</td>\n",
       "      <td>77</td>\n",
       "      <td>71</td>\n",
       "      <td>6225.6</td>\n",
       "      <td>2562</td>\n",
       "    </tr>\n",
       "    <tr>\n",
       "      <th>7</th>\n",
       "      <td>2019-08-04</td>\n",
       "      <td>B</td>\n",
       "      <td>68</td>\n",
       "      <td>66</td>\n",
       "      <td>6138.5</td>\n",
       "      <td>2573</td>\n",
       "    </tr>\n",
       "    <tr>\n",
       "      <th>8</th>\n",
       "      <td>2019-08-05</td>\n",
       "      <td>A</td>\n",
       "      <td>99</td>\n",
       "      <td>92</td>\n",
       "      <td>7623.6</td>\n",
       "      <td>3318</td>\n",
       "    </tr>\n",
       "    <tr>\n",
       "      <th>9</th>\n",
       "      <td>2019-08-05</td>\n",
       "      <td>B</td>\n",
       "      <td>89</td>\n",
       "      <td>87</td>\n",
       "      <td>7587.8</td>\n",
       "      <td>3280</td>\n",
       "    </tr>\n",
       "  </tbody>\n",
       "</table>\n",
       "</div>"
      ],
      "text/plain": [
       "        date group  orders  buyers  revenue  visits\n",
       "0 2019-08-01  A     23      19      2266.6   719   \n",
       "1 2019-08-01  B     17      17      967.2    713   \n",
       "2 2019-08-02  A     42      36      3734.9   1338  \n",
       "3 2019-08-02  B     40      39      3535.3   1294  \n",
       "4 2019-08-03  A     66      60      5550.1   1845  \n",
       "5 2019-08-03  B     54      53      4606.9   1803  \n",
       "6 2019-08-04  A     77      71      6225.6   2562  \n",
       "7 2019-08-04  B     68      66      6138.5   2573  \n",
       "8 2019-08-05  A     99      92      7623.6   3318  \n",
       "9 2019-08-05  B     89      87      7587.8   3280  "
      ]
     },
     "execution_count": 20,
     "metadata": {},
     "output_type": "execute_result"
    }
   ],
   "source": [
    "cumulativeData = ordersAggregated.merge(visitsAggregated, left_on=['date','group'], right_on=['date','group'])\n",
    "cumulativeData.columns = ['date','group','orders','buyers', 'revenue','visits']\n",
    "cumulativeData.head(10)"
   ]
  },
  {
   "cell_type": "code",
   "execution_count": 21,
   "metadata": {},
   "outputs": [
    {
     "data": {
      "text/html": [
       "<style  type=\"text/css\" >\n",
       "</style><table id=\"T_f5b3b_\" style='display:inline'><caption>A</caption><thead>    <tr>        <th class=\"blank level0\" ></th>        <th class=\"col_heading level0 col0\" >date</th>        <th class=\"col_heading level0 col1\" >revenue</th>        <th class=\"col_heading level0 col2\" >orders</th>    </tr></thead><tbody>\n",
       "                <tr>\n",
       "                        <th id=\"T_f5b3b_level0_row0\" class=\"row_heading level0 row0\" >0</th>\n",
       "                        <td id=\"T_f5b3b_row0_col0\" class=\"data row0 col0\" >2019-08-01 00:00:00</td>\n",
       "                        <td id=\"T_f5b3b_row0_col1\" class=\"data row0 col1\" >2266.600000</td>\n",
       "                        <td id=\"T_f5b3b_row0_col2\" class=\"data row0 col2\" >23</td>\n",
       "            </tr>\n",
       "            <tr>\n",
       "                        <th id=\"T_f5b3b_level0_row1\" class=\"row_heading level0 row1\" >2</th>\n",
       "                        <td id=\"T_f5b3b_row1_col0\" class=\"data row1 col0\" >2019-08-02 00:00:00</td>\n",
       "                        <td id=\"T_f5b3b_row1_col1\" class=\"data row1 col1\" >3734.900000</td>\n",
       "                        <td id=\"T_f5b3b_row1_col2\" class=\"data row1 col2\" >42</td>\n",
       "            </tr>\n",
       "            <tr>\n",
       "                        <th id=\"T_f5b3b_level0_row2\" class=\"row_heading level0 row2\" >4</th>\n",
       "                        <td id=\"T_f5b3b_row2_col0\" class=\"data row2 col0\" >2019-08-03 00:00:00</td>\n",
       "                        <td id=\"T_f5b3b_row2_col1\" class=\"data row2 col1\" >5550.100000</td>\n",
       "                        <td id=\"T_f5b3b_row2_col2\" class=\"data row2 col2\" >66</td>\n",
       "            </tr>\n",
       "            <tr>\n",
       "                        <th id=\"T_f5b3b_level0_row3\" class=\"row_heading level0 row3\" >6</th>\n",
       "                        <td id=\"T_f5b3b_row3_col0\" class=\"data row3 col0\" >2019-08-04 00:00:00</td>\n",
       "                        <td id=\"T_f5b3b_row3_col1\" class=\"data row3 col1\" >6225.600000</td>\n",
       "                        <td id=\"T_f5b3b_row3_col2\" class=\"data row3 col2\" >77</td>\n",
       "            </tr>\n",
       "            <tr>\n",
       "                        <th id=\"T_f5b3b_level0_row4\" class=\"row_heading level0 row4\" >8</th>\n",
       "                        <td id=\"T_f5b3b_row4_col0\" class=\"data row4 col0\" >2019-08-05 00:00:00</td>\n",
       "                        <td id=\"T_f5b3b_row4_col1\" class=\"data row4 col1\" >7623.600000</td>\n",
       "                        <td id=\"T_f5b3b_row4_col2\" class=\"data row4 col2\" >99</td>\n",
       "            </tr>\n",
       "            <tr>\n",
       "                        <th id=\"T_f5b3b_level0_row5\" class=\"row_heading level0 row5\" >10</th>\n",
       "                        <td id=\"T_f5b3b_row5_col0\" class=\"data row5 col0\" >2019-08-06 00:00:00</td>\n",
       "                        <td id=\"T_f5b3b_row5_col1\" class=\"data row5 col1\" >8292.000000</td>\n",
       "                        <td id=\"T_f5b3b_row5_col2\" class=\"data row5 col2\" >114</td>\n",
       "            </tr>\n",
       "            <tr>\n",
       "                        <th id=\"T_f5b3b_level0_row6\" class=\"row_heading level0 row6\" >12</th>\n",
       "                        <td id=\"T_f5b3b_row6_col0\" class=\"data row6 col0\" >2019-08-07 00:00:00</td>\n",
       "                        <td id=\"T_f5b3b_row6_col1\" class=\"data row6 col1\" >10234.000000</td>\n",
       "                        <td id=\"T_f5b3b_row6_col2\" class=\"data row6 col2\" >130</td>\n",
       "            </tr>\n",
       "            <tr>\n",
       "                        <th id=\"T_f5b3b_level0_row7\" class=\"row_heading level0 row7\" >14</th>\n",
       "                        <td id=\"T_f5b3b_row7_col0\" class=\"data row7 col0\" >2019-08-08 00:00:00</td>\n",
       "                        <td id=\"T_f5b3b_row7_col1\" class=\"data row7 col1\" >11638.800000</td>\n",
       "                        <td id=\"T_f5b3b_row7_col2\" class=\"data row7 col2\" >144</td>\n",
       "            </tr>\n",
       "            <tr>\n",
       "                        <th id=\"T_f5b3b_level0_row8\" class=\"row_heading level0 row8\" >16</th>\n",
       "                        <td id=\"T_f5b3b_row8_col0\" class=\"data row8 col0\" >2019-08-09 00:00:00</td>\n",
       "                        <td id=\"T_f5b3b_row8_col1\" class=\"data row8 col1\" >13734.000000</td>\n",
       "                        <td id=\"T_f5b3b_row8_col2\" class=\"data row8 col2\" >155</td>\n",
       "            </tr>\n",
       "            <tr>\n",
       "                        <th id=\"T_f5b3b_level0_row9\" class=\"row_heading level0 row9\" >18</th>\n",
       "                        <td id=\"T_f5b3b_row9_col0\" class=\"data row9 col0\" >2019-08-10 00:00:00</td>\n",
       "                        <td id=\"T_f5b3b_row9_col1\" class=\"data row9 col1\" >16121.500000</td>\n",
       "                        <td id=\"T_f5b3b_row9_col2\" class=\"data row9 col2\" >170</td>\n",
       "            </tr>\n",
       "    </tbody></table>   <style  type=\"text/css\" >\n",
       "</style><table id=\"T_b1ea3_\" style='display:inline'><caption>B</caption><thead>    <tr>        <th class=\"blank level0\" ></th>        <th class=\"col_heading level0 col0\" >date</th>        <th class=\"col_heading level0 col1\" >revenue</th>        <th class=\"col_heading level0 col2\" >orders</th>    </tr></thead><tbody>\n",
       "                <tr>\n",
       "                        <th id=\"T_b1ea3_level0_row0\" class=\"row_heading level0 row0\" >1</th>\n",
       "                        <td id=\"T_b1ea3_row0_col0\" class=\"data row0 col0\" >2019-08-01 00:00:00</td>\n",
       "                        <td id=\"T_b1ea3_row0_col1\" class=\"data row0 col1\" >967.200000</td>\n",
       "                        <td id=\"T_b1ea3_row0_col2\" class=\"data row0 col2\" >17</td>\n",
       "            </tr>\n",
       "            <tr>\n",
       "                        <th id=\"T_b1ea3_level0_row1\" class=\"row_heading level0 row1\" >3</th>\n",
       "                        <td id=\"T_b1ea3_row1_col0\" class=\"data row1 col0\" >2019-08-02 00:00:00</td>\n",
       "                        <td id=\"T_b1ea3_row1_col1\" class=\"data row1 col1\" >3535.300000</td>\n",
       "                        <td id=\"T_b1ea3_row1_col2\" class=\"data row1 col2\" >40</td>\n",
       "            </tr>\n",
       "            <tr>\n",
       "                        <th id=\"T_b1ea3_level0_row2\" class=\"row_heading level0 row2\" >5</th>\n",
       "                        <td id=\"T_b1ea3_row2_col0\" class=\"data row2 col0\" >2019-08-03 00:00:00</td>\n",
       "                        <td id=\"T_b1ea3_row2_col1\" class=\"data row2 col1\" >4606.900000</td>\n",
       "                        <td id=\"T_b1ea3_row2_col2\" class=\"data row2 col2\" >54</td>\n",
       "            </tr>\n",
       "            <tr>\n",
       "                        <th id=\"T_b1ea3_level0_row3\" class=\"row_heading level0 row3\" >7</th>\n",
       "                        <td id=\"T_b1ea3_row3_col0\" class=\"data row3 col0\" >2019-08-04 00:00:00</td>\n",
       "                        <td id=\"T_b1ea3_row3_col1\" class=\"data row3 col1\" >6138.500000</td>\n",
       "                        <td id=\"T_b1ea3_row3_col2\" class=\"data row3 col2\" >68</td>\n",
       "            </tr>\n",
       "            <tr>\n",
       "                        <th id=\"T_b1ea3_level0_row4\" class=\"row_heading level0 row4\" >9</th>\n",
       "                        <td id=\"T_b1ea3_row4_col0\" class=\"data row4 col0\" >2019-08-05 00:00:00</td>\n",
       "                        <td id=\"T_b1ea3_row4_col1\" class=\"data row4 col1\" >7587.800000</td>\n",
       "                        <td id=\"T_b1ea3_row4_col2\" class=\"data row4 col2\" >89</td>\n",
       "            </tr>\n",
       "            <tr>\n",
       "                        <th id=\"T_b1ea3_level0_row5\" class=\"row_heading level0 row5\" >11</th>\n",
       "                        <td id=\"T_b1ea3_row5_col0\" class=\"data row5 col0\" >2019-08-06 00:00:00</td>\n",
       "                        <td id=\"T_b1ea3_row5_col1\" class=\"data row5 col1\" >10957.100000</td>\n",
       "                        <td id=\"T_b1ea3_row5_col2\" class=\"data row5 col2\" >112</td>\n",
       "            </tr>\n",
       "            <tr>\n",
       "                        <th id=\"T_b1ea3_level0_row6\" class=\"row_heading level0 row6\" >13</th>\n",
       "                        <td id=\"T_b1ea3_row6_col0\" class=\"data row6 col0\" >2019-08-07 00:00:00</td>\n",
       "                        <td id=\"T_b1ea3_row6_col1\" class=\"data row6 col1\" >14392.700000</td>\n",
       "                        <td id=\"T_b1ea3_row6_col2\" class=\"data row6 col2\" >135</td>\n",
       "            </tr>\n",
       "            <tr>\n",
       "                        <th id=\"T_b1ea3_level0_row7\" class=\"row_heading level0 row7\" >15</th>\n",
       "                        <td id=\"T_b1ea3_row7_col0\" class=\"data row7 col0\" >2019-08-08 00:00:00</td>\n",
       "                        <td id=\"T_b1ea3_row7_col1\" class=\"data row7 col1\" >16772.600000</td>\n",
       "                        <td id=\"T_b1ea3_row7_col2\" class=\"data row7 col2\" >157</td>\n",
       "            </tr>\n",
       "            <tr>\n",
       "                        <th id=\"T_b1ea3_level0_row8\" class=\"row_heading level0 row8\" >17</th>\n",
       "                        <td id=\"T_b1ea3_row8_col0\" class=\"data row8 col0\" >2019-08-09 00:00:00</td>\n",
       "                        <td id=\"T_b1ea3_row8_col1\" class=\"data row8 col1\" >18428.800000</td>\n",
       "                        <td id=\"T_b1ea3_row8_col2\" class=\"data row8 col2\" >176</td>\n",
       "            </tr>\n",
       "            <tr>\n",
       "                        <th id=\"T_b1ea3_level0_row9\" class=\"row_heading level0 row9\" >19</th>\n",
       "                        <td id=\"T_b1ea3_row9_col0\" class=\"data row9 col0\" >2019-08-10 00:00:00</td>\n",
       "                        <td id=\"T_b1ea3_row9_col1\" class=\"data row9 col1\" >20103.600000</td>\n",
       "                        <td id=\"T_b1ea3_row9_col2\" class=\"data row9 col2\" >198</td>\n",
       "            </tr>\n",
       "    </tbody></table>   "
      ],
      "text/plain": [
       "<IPython.core.display.HTML object>"
      ]
     },
     "metadata": {},
     "output_type": "display_data"
    }
   ],
   "source": [
    "cumulativeRevenueA = cumulativeData[cumulativeData['group']=='A'][['date','revenue','orders']]\n",
    "cumulativeRevenueB = cumulativeData[cumulativeData['group']=='B'][['date','revenue','orders']]\n",
    "display_side_by_side([cumulativeRevenueA.head(10), cumulativeRevenueB.head(10)],['A','B'])"
   ]
  },
  {
   "cell_type": "markdown",
   "metadata": {},
   "source": [
    "<a id=4></a>"
   ]
  },
  {
   "cell_type": "code",
   "execution_count": 22,
   "metadata": {},
   "outputs": [
    {
     "data": {
      "image/png": "[encoded data removed]",
      "text/plain": [
       "<Figure size 720x360 with 1 Axes>"
      ]
     },
     "metadata": {},
     "output_type": "display_data"
    }
   ],
   "source": [
    "plt.plot(cumulativeRevenueA['date'],cumulativeRevenueA['revenue'], label='A')\n",
    "plt.plot(cumulativeRevenueB['date'],cumulativeRevenueB['revenue'], label='B')\n",
    "plt.title('Cumulative Revenue by group')\n",
    "plt.xticks(rotation=90)\n",
    "plt.xlabel('Date')\n",
    "plt.ylabel('Revenue')\n",
    "plt.legend();"
   ]
  },
  {
   "cell_type": "markdown",
   "metadata": {},
   "source": [
    "<div style=\"border:solid #eaeaea 2px; padding: 15px\">\n",
    "First we can notice that we have an ongoing rise in revenue which is a good thing,\n",
    "we also can spot that both groups start quite equally and then group B takes the lead for the whole journy.\n",
    "Group B also shows a big spike halfway august, probably due to outliers in order quantity or buying price.\n",
    "Group A has as spike at the end of second week of august probably for the same reason.\n",
    "Both groups get steady near the end of the test altough still rising.\n",
    "</div>"
   ]
  },
  {
   "cell_type": "markdown",
   "metadata": {},
   "source": [
    "<a id=5></a>"
   ]
  },
  {
   "cell_type": "code",
   "execution_count": 23,
   "metadata": {},
   "outputs": [
    {
     "data": {
      "image/png": "[encoded data removed]",
      "text/plain": [
       "<Figure size 720x360 with 1 Axes>"
      ]
     },
     "metadata": {},
     "output_type": "display_data"
    }
   ],
   "source": [
    "plt.plot(cumulativeRevenueA['date'],cumulativeRevenueA['revenue']/cumulativeRevenueA['orders'], label='A')\n",
    "plt.plot(cumulativeRevenueB['date'],cumulativeRevenueB['revenue']/cumulativeRevenueB['orders'], label='B')\n",
    "plt.title('Cumulative average order size by group')\n",
    "plt.xticks(rotation=90)\n",
    "plt.xlabel('Date')\n",
    "plt.ylabel('Order size')\n",
    "plt.legend();"
   ]
  },
  {
   "cell_type": "markdown",
   "metadata": {},
   "source": [
    "<div style=\"border:solid #eaeaea 2px; padding: 15px\">\n",
    "Here we can spot that the spikes are bigger altohugh both stabilise at the end with group B once again leading.\n",
    "The surges both for Group A and B are probalby due to high and unusual order sizes.\n",
    "</div>"
   ]
  },
  {
   "cell_type": "code",
   "execution_count": 24,
   "metadata": {},
   "outputs": [],
   "source": [
    "mergedCumulativeRevenue = cumulativeRevenueA.merge(cumulativeRevenueB,left_on='date',right_on='date', how='left',suffixes=['A','B'])"
   ]
  },
  {
   "cell_type": "markdown",
   "metadata": {},
   "source": [
    "<a id=6></a>"
   ]
  },
  {
   "cell_type": "code",
   "execution_count": 25,
   "metadata": {
    "scrolled": false
   },
   "outputs": [
    {
     "data": {
      "image/png": "[encoded data removed]",
      "text/plain": [
       "<Figure size 720x360 with 1 Axes>"
      ]
     },
     "metadata": {},
     "output_type": "display_data"
    }
   ],
   "source": [
    "plt.plot(mergedCumulativeRevenue['date'], (mergedCumulativeRevenue['revenueB']/mergedCumulativeRevenue['ordersB'])/(mergedCumulativeRevenue['revenueA']/mergedCumulativeRevenue['ordersA'])-1)\n",
    "plt.axhline(y=0, color='black', linestyle='--')\n",
    "plt.title('Relative difference in cumulative average order size for group B compared with group A')\n",
    "plt.xticks(rotation=90)\n",
    "plt.xlabel('Date')\n",
    "plt.ylabel('Relative change');"
   ]
  },
  {
   "cell_type": "markdown",
   "metadata": {},
   "source": [
    "<div style=\"border:solid #eaeaea 2px; padding: 15px\">\n",
    "Our graph spikes at certain points, probably again due to outliers.  \n",
    "Once again we can see a spike in the middle of August month.\n",
    "</div>"
   ]
  },
  {
   "cell_type": "code",
   "execution_count": 26,
   "metadata": {},
   "outputs": [],
   "source": [
    "cumulativeData['conversion'] = cumulativeData['orders']/cumulativeData['visits']"
   ]
  },
  {
   "cell_type": "code",
   "execution_count": 27,
   "metadata": {},
   "outputs": [],
   "source": [
    "cumulativeDataA = cumulativeData[cumulativeData['group']=='A']\n",
    "cumulativeDataB = cumulativeData[cumulativeData['group']=='B']\n",
    "\n",
    "mergedCumulativeConversions = cumulativeDataA[['date','conversion']].merge(cumulativeDataB[['date','conversion']], left_on='date', right_on='date', how='left', suffixes=['A', 'B'])"
   ]
  },
  {
   "cell_type": "code",
   "execution_count": 28,
   "metadata": {},
   "outputs": [
    {
     "data": {
      "image/png": "[encoded data removed]",
      "text/plain": [
       "<Figure size 720x360 with 1 Axes>"
      ]
     },
     "metadata": {},
     "output_type": "display_data"
    }
   ],
   "source": [
    "plt.plot(mergedCumulativeConversions['date'], mergedCumulativeConversions['conversionB']/mergedCumulativeConversions['conversionA']-1)\n",
    "plt.title('Relative gain in conversion in group B as opposed to group A')\n",
    "plt.axhline(y=0, color='black', linestyle='--')\n",
    "plt.axhline(y= 0.2, color='grey', linestyle='--')\n",
    "#plt.axis([\"2019-08-01\", '2019-09-01', -0.5, 0.5])\n",
    "plt.xlabel('Date')\n",
    "plt.ylabel('Relative change');"
   ]
  },
  {
   "cell_type": "markdown",
   "metadata": {},
   "source": [
    "<div style=\"border:solid #eaeaea 2px; padding: 15px\">\n",
    "We can see a rise and then the graph stabilises at the end with a potential to rise again\n",
    "</div>"
   ]
  },
  {
   "cell_type": "markdown",
   "metadata": {},
   "source": [
    "<a id=7></a>"
   ]
  },
  {
   "cell_type": "code",
   "execution_count": 29,
   "metadata": {},
   "outputs": [
    {
     "data": {
      "image/png": "[encoded data removed]",
      "text/plain": [
       "<Figure size 720x360 with 1 Axes>"
      ]
     },
     "metadata": {},
     "output_type": "display_data"
    }
   ],
   "source": [
    "cumulativeData['conversion'] = cumulativeData['orders']/cumulativeData['visits']\n",
    "\n",
    "cumulativeDataA = cumulativeData[cumulativeData['group']=='A']\n",
    "cumulativeDataB = cumulativeData[cumulativeData['group']=='B']\n",
    "\n",
    "plt.plot(cumulativeDataA['date'], cumulativeDataA['conversion'], label='A')\n",
    "plt.plot(cumulativeDataB['date'], cumulativeDataB['conversion'], label='B')\n",
    "plt.title('Conversion rate of orders to number of visits')\n",
    "plt.xticks(rotation=90)\n",
    "plt.legend()\n",
    "plt.xlabel('Date')\n",
    "plt.ylabel('Conversion rate');"
   ]
  },
  {
   "cell_type": "markdown",
   "metadata": {},
   "source": [
    "<div style=\"border:solid #eaeaea 2px; padding: 15px\">\n",
    "At the start of the month Group A started relatively higher than group B, after a couple of days the rate changed in favour of group B.  \n",
    "After that the graph pretty much stabilizes towrads the end of the month.\n",
    "</div>"
   ]
  },
  {
   "cell_type": "code",
   "execution_count": 30,
   "metadata": {},
   "outputs": [],
   "source": [
    "ordersByUsers = orders.drop(['revenue', 'date'], axis=1).groupby('visitorId', as_index=False).agg({'transactionId' : pd.Series.nunique,'group':'min'})\n",
    "ordersByUsers.columns = ['visitorId','orders','group']"
   ]
  },
  {
   "cell_type": "markdown",
   "metadata": {},
   "source": [
    "<a id=8></a>"
   ]
  },
  {
   "cell_type": "code",
   "execution_count": 31,
   "metadata": {},
   "outputs": [
    {
     "data": {
      "image/png": "[encoded data removed]",
      "text/plain": [
       "<Figure size 720x360 with 1 Axes>"
      ]
     },
     "metadata": {},
     "output_type": "display_data"
    }
   ],
   "source": [
    "x_values = pd.Series(range(0,len(ordersByUsers)))\n",
    "sns.scatterplot(x=x_values, y='orders',hue='group',data=ordersByUsers)\n",
    "plt.title('Number of orders per user')\n",
    "plt.xlabel('Number of users')\n",
    "plt.ylabel('order size');"
   ]
  },
  {
   "cell_type": "code",
   "execution_count": 32,
   "metadata": {},
   "outputs": [
    {
     "data": {
      "image/png": "[encoded data removed]",
      "text/plain": [
       "<Figure size 720x288 with 1 Axes>"
      ]
     },
     "metadata": {},
     "output_type": "display_data"
    }
   ],
   "source": [
    "## Reviewer's code  v2\n",
    "# takes colors from here: https://colorhunt.co/\n",
    "x_values = pd.Series(range(0,len(ordersByUsers)))\n",
    "plt.figure(figsize=(10, 4))\n",
    "sns.scatterplot(x=x_values, y='orders',hue='group',data=ordersByUsers, alpha=0.6, s=100, \n",
    "                palette=['#09015f', '#af0069'], edgecolor=None)\n",
    "plt.title('Number of orders per user')\n",
    "plt.xlabel('Number of users')\n",
    "plt.ylabel('order size')\n",
    "plt.show()"
   ]
  },
  {
   "cell_type": "markdown",
   "metadata": {},
   "source": [
    "<div style=\"border:solid #eaeaea 2px; padding: 15px\">\n",
    "majority of users order between 1 - 2 orders in our time priod, we also have some distinct users who order 3 times.  \n",
    "    \n",
    "The most rare cases are 3 , which we would conside an outlier here, in the next step well find exactly what is considered an anomaly.\n",
    "</div>"
   ]
  },
  {
   "cell_type": "markdown",
   "metadata": {},
   "source": [
    "<a id=9></a>"
   ]
  },
  {
   "cell_type": "code",
   "execution_count": 33,
   "metadata": {},
   "outputs": [
    {
     "name": "stdout",
     "output_type": "stream",
     "text": [
      "[1. 1. 2.]\n"
     ]
    }
   ],
   "source": [
    "print(np.percentile(ordersByUsers['orders'], [90, 95, 99]))"
   ]
  },
  {
   "cell_type": "markdown",
   "metadata": {},
   "source": [
    "<div style=\"border:solid #eaeaea 2px; padding: 15px\">\n",
    "Seems that no more than 1% order 2 orders or possibly more, so it would be reasonable to set the accepted limit at up to 2 orders per user.\n",
    "</div>"
   ]
  },
  {
   "cell_type": "markdown",
   "metadata": {},
   "source": [
    "<a id=10></a>"
   ]
  },
  {
   "cell_type": "code",
   "execution_count": 34,
   "metadata": {},
   "outputs": [
    {
     "data": {
      "image/png": "[encoded data removed]",
      "text/plain": [
       "<Figure size 720x360 with 1 Axes>"
      ]
     },
     "metadata": {},
     "output_type": "display_data"
    }
   ],
   "source": [
    "x_values = pd.Series(range(0,len(orders['revenue'])))\n",
    "plt.scatter(x_values, orders['revenue'])\n",
    "plt.subplot()\n",
    "plt.title('Order prices');"
   ]
  },
  {
   "cell_type": "markdown",
   "metadata": {},
   "source": [
    "<div style=\"border:solid #eaeaea 2px; padding: 15px\">\n",
    "Seems like most orders go from 0 to about 1000. lets check the perecntiles.\n",
    "</div>"
   ]
  },
  {
   "cell_type": "markdown",
   "metadata": {},
   "source": [
    "<a id=11></a>"
   ]
  },
  {
   "cell_type": "code",
   "execution_count": 35,
   "metadata": {},
   "outputs": [
    {
     "name": "stdout",
     "output_type": "stream",
     "text": [
      "[280.8   414.275 830.3  ]\n"
     ]
    }
   ],
   "source": [
    "print(np.percentile(orders['revenue'], [90, 95, 99]))"
   ]
  },
  {
   "cell_type": "markdown",
   "metadata": {},
   "source": [
    "<div style=\"border:solid #eaeaea 2px; padding: 15px\">\n",
    "So only 1% gets to 830 in order price, our 5% is the better bet so we will take 500 as a limit. everythin above that is an anomaly.\n",
    "</div>"
   ]
  },
  {
   "cell_type": "markdown",
   "metadata": {},
   "source": [
    "<a id=12></a>"
   ]
  },
  {
   "cell_type": "markdown",
   "metadata": {},
   "source": [
    "<div style=\"border:solid #eaeaea 2px; padding: 15px\">\n",
    "H0 - The groups conversion rates differences are <b>NOT</b> statistically significant.<n>\n",
    "    \n",
    "H1 - The groups conversion rates differences <b>ARE</b> statistically significant \n",
    "    \n",
    "Alpha = 0.05</div>"
   ]
  },
  {
   "cell_type": "code",
   "execution_count": 36,
   "metadata": {},
   "outputs": [
    {
     "name": "stdout",
     "output_type": "stream",
     "text": [
      "P-Value: 0.006\n",
      "Relative conversion gain for group B compared with group A: 0.160\n"
     ]
    }
   ],
   "source": [
    "ordersByUsersA = orders[orders['group']=='A'].groupby('visitorId', as_index=False).agg({'transactionId' : pd.Series.nunique})\n",
    "ordersByUsersA.columns = ['visitorId', 'orders']\n",
    "\n",
    "ordersByUsersB = orders[orders['group']=='B'].groupby('visitorId', as_index=False).agg({'transactionId' : pd.Series.nunique})\n",
    "ordersByUsersB.columns = ['visitorId', 'orders'] \n",
    "\n",
    "sampleA = pd.concat([ordersByUsersA['orders'],pd.Series(0, index=np.arange(visits[visits['group']=='A']['visits'].sum() - len(ordersByUsersA['orders'])), name='orders')],axis=0)\n",
    "\n",
    "sampleB = pd.concat([ordersByUsersB['orders'],pd.Series(0, index=np.arange(visits[visits['group']=='B']['visits'].sum() - len(ordersByUsersB['orders'])), name='orders')],axis=0)\n",
    "\n",
    "print(\"P-Value: {0:.3f}\".format(stats.mannwhitneyu(sampleA, sampleB)[1]))\n",
    "\n",
    "print(\"Relative conversion gain for group B compared with group A: {0:.3f}\".format(sampleB.mean()/sampleA.mean()-1)) \n",
    "\n"
   ]
  },
  {
   "cell_type": "markdown",
   "metadata": {},
   "source": [
    "<div style=\"border:solid #eaeaea 2px; padding: 15px\">\n",
    "The P-values is significally lower than 0.05 which means we reject the Null Hypothesis.  \n",
    "The raw data analysis shows that the groups conversion rates differences are statistically significant.\n",
    "We can also see that the realtive conversion gain for group B compared to group A is 16%.\n",
    "</div>"
   ]
  },
  {
   "cell_type": "markdown",
   "metadata": {},
   "source": [
    "<a id=13></a>"
   ]
  },
  {
   "cell_type": "markdown",
   "metadata": {},
   "source": [
    "<div style=\"border:solid #eaeaea 2px; padding: 15px\">\n",
    "H0 - The groups conversion rates differences are <b>NOT</b> statistically significant.<n>\n",
    "    \n",
    "H1 - The groups conversion rates differences <b>ARE</b> statistically significant \n",
    "    \n",
    "Alpha = 0.05</div>"
   ]
  },
  {
   "cell_type": "code",
   "execution_count": 37,
   "metadata": {},
   "outputs": [
    {
     "name": "stdout",
     "output_type": "stream",
     "text": [
      "P-Value: 0.431\n",
      "Relative difference for group B compared with group A: 0.278\n"
     ]
    }
   ],
   "source": [
    "sampleA = pd.concat([ordersByUsersA['orders'],pd.Series(0, index=np.arange(visits[visits['group']=='A']['visits'].sum() - len(ordersByUsersA['orders'])), name='orders')],axis=0)\n",
    "sampleB = pd.concat([ordersByUsersB['orders'],pd.Series(0, index=np.arange(visits[visits['group']=='B']['visits'].sum() - len(ordersByUsersB['orders'])), name='orders')],axis=0)\n",
    "\n",
    "print(\"P-Value: {0:.3f}\".format(stats.mannwhitneyu(orders[orders['group']=='A']['revenue'], orders[orders['group']=='B']['revenue'])[1]))\n",
    "print(\"Relative difference for group B compared with group A: {0:.3f}\".format(orders[orders['group']=='B']['revenue'].mean()/orders[orders['group']=='A']['revenue'].mean()-1)) "
   ]
  },
  {
   "cell_type": "markdown",
   "metadata": {},
   "source": [
    "<div style=\"border:solid #eaeaea 2px; padding: 15px\">\n",
    "The P-value is greater than 0.05 so there are no statistically significant differences between the groups average order sizes.\n",
    "However, the relative difference is 27.8% which is pretty big, but not significant. lets see if those are caused by anomalies.\n",
    "</div>"
   ]
  },
  {
   "cell_type": "markdown",
   "metadata": {},
   "source": [
    "<a id=14></a>"
   ]
  },
  {
   "cell_type": "code",
   "execution_count": 38,
   "metadata": {},
   "outputs": [
    {
     "data": {
      "text/plain": [
       "1099    148427295\n",
       "928     204675465\n",
       "33      249864742\n",
       "684     358944393\n",
       "648     382846391\n",
       "Name: visitorId, dtype: int64"
      ]
     },
     "execution_count": 38,
     "metadata": {},
     "output_type": "execute_result"
    }
   ],
   "source": [
    "usersWithManyOrders = pd.concat([ordersByUsersA[ordersByUsersA['orders'] > 2]['visitorId'], ordersByUsersB[ordersByUsersB['orders'] > 2]['visitorId']], axis = 0)\n",
    "usersWithExpensiveOrders = orders[orders['revenue'] > 500]['visitorId']\n",
    "\n",
    "abnormalUsers = pd.concat([usersWithManyOrders, usersWithExpensiveOrders], axis = 0).drop_duplicates().sort_values()\n",
    "abnormalUsers.head()"
   ]
  },
  {
   "cell_type": "markdown",
   "metadata": {},
   "source": [
    "<div style=\"border:solid #eaeaea 2px; padding: 15px\">\n",
    "H0 - The groups conversion rates differences are <b>NOT</b> statistically significant.<n>\n",
    "    \n",
    "H1 - The groups conversion rates differences <b>ARE</b> statistically significant \n",
    "    \n",
    "Alpha = 0.05</div>"
   ]
  },
  {
   "cell_type": "code",
   "execution_count": 39,
   "metadata": {},
   "outputs": [
    {
     "name": "stdout",
     "output_type": "stream",
     "text": [
      "P-value: 0.00373\n",
      "Relative conversion gain for group B compared with group A: 0.193\n"
     ]
    }
   ],
   "source": [
    "sampleAFiltered = pd.concat([ordersByUsersA[np.logical_not(ordersByUsersA['visitorId'].isin(abnormalUsers))]['orders'],pd.Series(0, index=np.arange(visits[visits['group']=='A']['visits'].sum() - len(ordersByUsersA['orders'])),name='orders')],axis=0)\n",
    "\n",
    "sampleBFiltered = pd.concat([ordersByUsersB[np.logical_not(ordersByUsersB['visitorId'].isin(abnormalUsers))]['orders'],pd.Series(0, index=np.arange(visits[visits['group']=='B']['visits'].sum() - len(ordersByUsersB['orders'])),name='orders')],axis=0) \n",
    "\n",
    "print(\"P-value: {0:.5f}\".format(stats.mannwhitneyu(sampleAFiltered, sampleBFiltered)[1]))\n",
    "print(\"Relative conversion gain for group B compared with group A: {0:.3f}\".format(sampleBFiltered.mean()/sampleAFiltered.mean()-1)) "
   ]
  },
  {
   "cell_type": "markdown",
   "metadata": {},
   "source": [
    "<div style=\"border:solid #eaeaea 2px; padding: 15px\">\n",
    "Seems like the the distance grew slightly between the raw and filtered data,\n",
    "It is still significantly different and we can see that segment B is much better than A with a relative change that grew to 19.3%.\n",
    "</div>"
   ]
  },
  {
   "cell_type": "markdown",
   "metadata": {},
   "source": [
    "<a id=15></a>"
   ]
  },
  {
   "cell_type": "markdown",
   "metadata": {},
   "source": [
    "<div style=\"border:solid #eaeaea 2px; padding: 15px\">\n",
    "H0 - The groups conversion rates differences are <b>NOT</b> statistically significant.<n>\n",
    "    \n",
    "H1 - The groups conversion rates differences <b>ARE</b> statistically significant \n",
    "    \n",
    "Alpha = 0.05</div>"
   ]
  },
  {
   "cell_type": "code",
   "execution_count": 40,
   "metadata": {},
   "outputs": [
    {
     "name": "stdout",
     "output_type": "stream",
     "text": [
      "0.444\n",
      "-0.001\n"
     ]
    }
   ],
   "source": [
    "print(\"{0:.3f}\".format(stats.mannwhitneyu(\n",
    "    orders[np.logical_and(\n",
    "        orders['group']=='A',\n",
    "        np.logical_not(orders['visitorId'].isin(abnormalUsers)))]['revenue'],\n",
    "    orders[np.logical_and(\n",
    "        orders['group']=='B',\n",
    "        np.logical_not(orders['visitorId'].isin(abnormalUsers)))]['revenue'])[1]))\n",
    "\n",
    "print(\"{0:.3f}\".format(\n",
    "    orders[np.logical_and(orders['group']=='B',np.logical_not(orders['visitorId'].isin(abnormalUsers)))]['revenue'].mean()/\n",
    "    orders[np.logical_and(\n",
    "        orders['group']=='A',\n",
    "        np.logical_not(orders['visitorId'].isin(abnormalUsers)))]['revenue'].mean() - 1)) "
   ]
  },
  {
   "cell_type": "markdown",
   "metadata": {},
   "source": [
    "<div style=\"border:solid #eaeaea 2px; padding: 15px\">\n",
    "Here we can see that even after filtering the data, we arrived to the conclusion that the difference is not statistically significant, with a variance change of 0.1% which now looks more normal after the filtering we did, but still not significant.\n",
    "</div>"
   ]
  },
  {
   "cell_type": "markdown",
   "metadata": {},
   "source": [
    "<a id=16></a>"
   ]
  },
  {
   "cell_type": "markdown",
   "metadata": {},
   "source": [
    "<div style=\"border:solid #71e8d8 2px; padding: 15px\">\n",
    "<font style=\"font-size:30px\";color='#000000'>Conclusion</font> \n",
    "\n",
    "If we conclude all of the outcomes from our analasys:\n",
    "Framework usage - we saw that the the RICE framework is of better accuracy due to it having an extra parameter to account for.\n",
    "P-values and relative changes :   \n",
    "    \n",
    "Raw conversion between groups- <code style=\"background:#669cd6;color:black\">P-value - 0.006</code>, <code style=\"background:#d4ef39;color:black\">relative change - 16%</code> - <code style=\"background:#00ff6a;color:black\">statistically significant.</code>  \n",
    "Raw difference in order size - <code style=\"background:#669cd6;color:black\">P-value - 0.431</code>,  <code style=\"background:#d4ef39;color:black\">relative change - 27.8%</code> - <code style=\"background:#ce3d3d;color:black\">not statistically significant.</code>  \n",
    "Filtered conversion between groups- <code style=\"background:#669cd6;color:black\">P-value - 0.00373</code>,  <code style=\"background:#d4ef39;color:black\">relative change - 19.3%</code> - <code style=\"background:#00ff6a;color:black\">statistically significant.</code>  \n",
    "Filtered difference in order size - <code style=\"background:#669cd6;color:black\">P-value - 0.444</code>,  <code style=\"background:#d4ef39;color:black\">relative change - 0.1%</code> - <code style=\"background:#ce3d3d;color:black\">not statistically significant.</code>  \n",
    "    \n",
    "We can see that after filtering the data the Conversion became slightly higher (thus more accurate) and the relative change grew by 4% between the groups.  \n",
    "In the order size comparison we got in both raw and filtered data not statistically significant result, With a drop in relative change from 25.2% to 1.1% which means we had anomalies to impact the data.  \n",
    "    \n",
    "As it seems theres no significant difference between order size, but we do have a significant difference in conversion rates between the groups, seems like group B is in the lead. So my conclusion based on the data is to stop the test and conclude that it was a success.\n",
    "</div>"
   ]
  },
  {
   "cell_type": "code",
   "execution_count": null,
   "metadata": {},
   "outputs": [],
   "source": []
  }
 ],
 "metadata": {
  "kernelspec": {
   "display_name": "Python 3",
   "language": "python",
   "name": "python3"
  },
  "language_info": {
   "codemirror_mode": {
    "name": "ipython",
    "version": 3
   },
   "file_extension": ".py",
   "mimetype": "text/x-python",
   "name": "python",
   "nbconvert_exporter": "python",
   "pygments_lexer": "ipython3",
   "version": "3.8.5"
  }
 },
 "nbformat": 4,
 "nbformat_minor": 4
}

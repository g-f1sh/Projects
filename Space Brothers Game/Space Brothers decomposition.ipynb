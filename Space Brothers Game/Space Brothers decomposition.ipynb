{
 "cells": [
  {
   "cell_type": "markdown",
   "id": "ordinary-hawaiian",
   "metadata": {},
   "source": [
    "# Space Brothers decomposition"
   ]
  },
  {
   "cell_type": "markdown",
   "id": "suffering-jurisdiction",
   "metadata": {},
   "source": [
    "<b>For the task at hand our goal is to find a monetization model that will bring us the best revenue,<br>\n",
    "    \n",
    "The target is to present the findings and figure the best way to monetize tha game and on what the focus should be.</b>"
   ]
  },
  {
   "cell_type": "markdown",
   "id": "electrical-overall",
   "metadata": {},
   "source": [
    "* Based on the data we have at hand (3 csv files), We need to take a first look at the data and understand what we are dealing with."
   ]
  },
  {
   "cell_type": "markdown",
   "id": "binding-harbor",
   "metadata": {},
   "source": [
    "* Go through data preprocessing,<br>\n",
    "We need to handle any missing or duplicate values and convert columns names or types as needed.<br>\n",
    "Since we have only about a week worth of data we can convert the datetime to days (4 - 10)."
   ]
  },
  {
   "cell_type": "markdown",
   "id": "satellite-beads",
   "metadata": {},
   "source": [
    "* Carry out exploratory data analysis, Try and see if our data is distributed well or if we have any type of anomalies in the data."
   ]
  },
  {
   "cell_type": "markdown",
   "id": "pregnant-profile",
   "metadata": {},
   "source": [
    "### Analyze the data\n",
    "\n",
    "* Find how many users finished the first stage by either building an orbital satellite-assembly system or defeating the boss.<br>\n",
    "\n",
    "\n",
    "* Finding on average how much time it takes for the average user to finish the first stage (Building vs Boss defeat).<br>\n",
    "\n",
    "\n",
    "* Create a funnel showing events.<br>\n",
    "\n",
    "\n",
    "* Calculate how many users came through each channel.<br>\n",
    "\n",
    "\n",
    "* Find out how many users clicked on each ad source.<br>\n",
    "\n",
    "\n",
    "\n",
    "* calculate average profit/loss from each source.<br>\n",
    "\n",
    "\n",
    "* decide which sources bring the highest revenue.<br>\n",
    "\n",
    "\n",
    "#### Build Hypothesis\n",
    "\n",
    "* Test a hypothesis on the difference in completion time between users who finish the stage by building the assembly and those who do so by beating the boss.<br>\n",
    "\n",
    "\n",
    "* Formulate a statistical hypothesis regarding the data from the dataset and test it: <br>\n",
    "Like if users from certain sources finish the first faster then others or if users that finish slower are more likely to click on ads."
   ]
  },
  {
   "cell_type": "code",
   "execution_count": null,
   "id": "romantic-packaging",
   "metadata": {},
   "outputs": [],
   "source": []
  }
 ],
 "metadata": {
  "kernelspec": {
   "display_name": "Python 3",
   "language": "python",
   "name": "python3"
  },
  "language_info": {
   "codemirror_mode": {
    "name": "ipython",
    "version": 3
   },
   "file_extension": ".py",
   "mimetype": "text/x-python",
   "name": "python",
   "nbconvert_exporter": "python",
   "pygments_lexer": "ipython3",
   "version": "3.8.5"
  }
 },
 "nbformat": 4,
 "nbformat_minor": 5
}
